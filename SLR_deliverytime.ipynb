{
 "cells": [
  {
   "cell_type": "code",
   "execution_count": 1,
   "id": "1740a0f2",
   "metadata": {},
   "outputs": [],
   "source": [
    "import pandas as pd\n",
    "import matplotlib.pyplot as plt\n",
    "import seaborn as sns"
   ]
  },
  {
   "cell_type": "code",
   "execution_count": 2,
   "id": "00a332eb",
   "metadata": {},
   "outputs": [],
   "source": [
    "del_time=pd.read_csv('delivery_time.csv')"
   ]
  },
  {
   "cell_type": "code",
   "execution_count": 3,
   "id": "24065166",
   "metadata": {},
   "outputs": [
    {
     "data": {
      "text/html": [
       "<div>\n",
       "<style scoped>\n",
       "    .dataframe tbody tr th:only-of-type {\n",
       "        vertical-align: middle;\n",
       "    }\n",
       "\n",
       "    .dataframe tbody tr th {\n",
       "        vertical-align: top;\n",
       "    }\n",
       "\n",
       "    .dataframe thead th {\n",
       "        text-align: right;\n",
       "    }\n",
       "</style>\n",
       "<table border=\"1\" class=\"dataframe\">\n",
       "  <thead>\n",
       "    <tr style=\"text-align: right;\">\n",
       "      <th></th>\n",
       "      <th>Delivery Time</th>\n",
       "      <th>Sorting Time</th>\n",
       "    </tr>\n",
       "  </thead>\n",
       "  <tbody>\n",
       "    <tr>\n",
       "      <th>0</th>\n",
       "      <td>21.00</td>\n",
       "      <td>10</td>\n",
       "    </tr>\n",
       "    <tr>\n",
       "      <th>1</th>\n",
       "      <td>13.50</td>\n",
       "      <td>4</td>\n",
       "    </tr>\n",
       "    <tr>\n",
       "      <th>2</th>\n",
       "      <td>19.75</td>\n",
       "      <td>6</td>\n",
       "    </tr>\n",
       "    <tr>\n",
       "      <th>3</th>\n",
       "      <td>24.00</td>\n",
       "      <td>9</td>\n",
       "    </tr>\n",
       "    <tr>\n",
       "      <th>4</th>\n",
       "      <td>29.00</td>\n",
       "      <td>10</td>\n",
       "    </tr>\n",
       "  </tbody>\n",
       "</table>\n",
       "</div>"
      ],
      "text/plain": [
       "   Delivery Time  Sorting Time\n",
       "0          21.00            10\n",
       "1          13.50             4\n",
       "2          19.75             6\n",
       "3          24.00             9\n",
       "4          29.00            10"
      ]
     },
     "execution_count": 3,
     "metadata": {},
     "output_type": "execute_result"
    }
   ],
   "source": [
    "del_time.head()"
   ]
  },
  {
   "cell_type": "markdown",
   "id": "33ff7975",
   "metadata": {},
   "source": [
    "# 1.Initial investigation"
   ]
  },
  {
   "cell_type": "code",
   "execution_count": 4,
   "id": "e8be16cc",
   "metadata": {},
   "outputs": [
    {
     "data": {
      "text/plain": [
       "(21, 2)"
      ]
     },
     "execution_count": 4,
     "metadata": {},
     "output_type": "execute_result"
    }
   ],
   "source": [
    "del_time.shape"
   ]
  },
  {
   "cell_type": "code",
   "execution_count": 6,
   "id": "f618a982",
   "metadata": {},
   "outputs": [
    {
     "data": {
      "text/plain": [
       "Delivery Time    0\n",
       "Sorting Time     0\n",
       "dtype: int64"
      ]
     },
     "execution_count": 6,
     "metadata": {},
     "output_type": "execute_result"
    }
   ],
   "source": [
    "del_time.isnull().sum()"
   ]
  },
  {
   "cell_type": "code",
   "execution_count": 7,
   "id": "3892c894",
   "metadata": {},
   "outputs": [
    {
     "data": {
      "text/plain": [
       "Delivery Time    float64\n",
       "Sorting Time       int64\n",
       "dtype: object"
      ]
     },
     "execution_count": 7,
     "metadata": {},
     "output_type": "execute_result"
    }
   ],
   "source": [
    "del_time.dtypes"
   ]
  },
  {
   "cell_type": "code",
   "execution_count": 8,
   "id": "58aa5f83",
   "metadata": {},
   "outputs": [
    {
     "data": {
      "text/html": [
       "<div>\n",
       "<style scoped>\n",
       "    .dataframe tbody tr th:only-of-type {\n",
       "        vertical-align: middle;\n",
       "    }\n",
       "\n",
       "    .dataframe tbody tr th {\n",
       "        vertical-align: top;\n",
       "    }\n",
       "\n",
       "    .dataframe thead th {\n",
       "        text-align: right;\n",
       "    }\n",
       "</style>\n",
       "<table border=\"1\" class=\"dataframe\">\n",
       "  <thead>\n",
       "    <tr style=\"text-align: right;\">\n",
       "      <th></th>\n",
       "      <th>Delivery Time</th>\n",
       "      <th>Sorting Time</th>\n",
       "    </tr>\n",
       "  </thead>\n",
       "  <tbody>\n",
       "    <tr>\n",
       "      <th>count</th>\n",
       "      <td>21.000000</td>\n",
       "      <td>21.000000</td>\n",
       "    </tr>\n",
       "    <tr>\n",
       "      <th>mean</th>\n",
       "      <td>16.790952</td>\n",
       "      <td>6.190476</td>\n",
       "    </tr>\n",
       "    <tr>\n",
       "      <th>std</th>\n",
       "      <td>5.074901</td>\n",
       "      <td>2.542028</td>\n",
       "    </tr>\n",
       "    <tr>\n",
       "      <th>min</th>\n",
       "      <td>8.000000</td>\n",
       "      <td>2.000000</td>\n",
       "    </tr>\n",
       "    <tr>\n",
       "      <th>25%</th>\n",
       "      <td>13.500000</td>\n",
       "      <td>4.000000</td>\n",
       "    </tr>\n",
       "    <tr>\n",
       "      <th>50%</th>\n",
       "      <td>17.830000</td>\n",
       "      <td>6.000000</td>\n",
       "    </tr>\n",
       "    <tr>\n",
       "      <th>75%</th>\n",
       "      <td>19.750000</td>\n",
       "      <td>8.000000</td>\n",
       "    </tr>\n",
       "    <tr>\n",
       "      <th>max</th>\n",
       "      <td>29.000000</td>\n",
       "      <td>10.000000</td>\n",
       "    </tr>\n",
       "  </tbody>\n",
       "</table>\n",
       "</div>"
      ],
      "text/plain": [
       "       Delivery Time  Sorting Time\n",
       "count      21.000000     21.000000\n",
       "mean       16.790952      6.190476\n",
       "std         5.074901      2.542028\n",
       "min         8.000000      2.000000\n",
       "25%        13.500000      4.000000\n",
       "50%        17.830000      6.000000\n",
       "75%        19.750000      8.000000\n",
       "max        29.000000     10.000000"
      ]
     },
     "execution_count": 8,
     "metadata": {},
     "output_type": "execute_result"
    }
   ],
   "source": [
    "del_time.describe()"
   ]
  },
  {
   "cell_type": "markdown",
   "id": "d5007be3",
   "metadata": {},
   "source": [
    "# 2. Assumption Check"
   ]
  },
  {
   "cell_type": "code",
   "execution_count": 12,
   "id": "738cdc31",
   "metadata": {},
   "outputs": [
    {
     "data": {
      "text/plain": [
       "Text(0, 0.5, 'Delivery time')"
      ]
     },
     "execution_count": 12,
     "metadata": {},
     "output_type": "execute_result"
    },
    {
     "data": {
      "image/png": "[encoded data removed]",
      "text/plain": [
       "<Figure size 432x288 with 1 Axes>"
      ]
     },
     "metadata": {
      "needs_background": "light"
     },
     "output_type": "display_data"
    }
   ],
   "source": [
    "plt.scatter(x='Sorting Time',y='Delivery Time', data=del_time)\n",
    "plt.xlabel('Sorting time')\n",
    "plt.ylabel('Delivery time')"
   ]
  },
  {
   "cell_type": "code",
   "execution_count": 13,
   "id": "68e849c1",
   "metadata": {},
   "outputs": [
    {
     "data": {
      "text/html": [
       "<div>\n",
       "<style scoped>\n",
       "    .dataframe tbody tr th:only-of-type {\n",
       "        vertical-align: middle;\n",
       "    }\n",
       "\n",
       "    .dataframe tbody tr th {\n",
       "        vertical-align: top;\n",
       "    }\n",
       "\n",
       "    .dataframe thead th {\n",
       "        text-align: right;\n",
       "    }\n",
       "</style>\n",
       "<table border=\"1\" class=\"dataframe\">\n",
       "  <thead>\n",
       "    <tr style=\"text-align: right;\">\n",
       "      <th></th>\n",
       "      <th>Delivery Time</th>\n",
       "      <th>Sorting Time</th>\n",
       "    </tr>\n",
       "  </thead>\n",
       "  <tbody>\n",
       "    <tr>\n",
       "      <th>Delivery Time</th>\n",
       "      <td>1.000000</td>\n",
       "      <td>0.825997</td>\n",
       "    </tr>\n",
       "    <tr>\n",
       "      <th>Sorting Time</th>\n",
       "      <td>0.825997</td>\n",
       "      <td>1.000000</td>\n",
       "    </tr>\n",
       "  </tbody>\n",
       "</table>\n",
       "</div>"
      ],
      "text/plain": [
       "               Delivery Time  Sorting Time\n",
       "Delivery Time       1.000000      0.825997\n",
       "Sorting Time        0.825997      1.000000"
      ]
     },
     "execution_count": 13,
     "metadata": {},
     "output_type": "execute_result"
    }
   ],
   "source": [
    "del_time.corr()"
   ]
  },
  {
   "cell_type": "code",
   "execution_count": 14,
   "id": "e35beede",
   "metadata": {},
   "outputs": [],
   "source": [
    "import warnings\n",
    "warnings.filterwarnings('ignore')"
   ]
  },
  {
   "cell_type": "code",
   "execution_count": 15,
   "id": "f4786659",
   "metadata": {},
   "outputs": [
    {
     "data": {
      "text/plain": [
       "<AxesSubplot:ylabel='Density'>"
      ]
     },
     "execution_count": 15,
     "metadata": {},
     "output_type": "execute_result"
    },
    {
     "data": {
      "image/png": "[encoded data removed]",
      "text/plain": [
       "<Figure size 432x288 with 1 Axes>"
      ]
     },
     "metadata": {
      "needs_background": "light"
     },
     "output_type": "display_data"
    }
   ],
   "source": [
    "sns.distplot(x=del_time['Sorting Time'])"
   ]
  },
  {
   "cell_type": "code",
   "execution_count": 16,
   "id": "d6865075",
   "metadata": {},
   "outputs": [
    {
     "data": {
      "text/plain": [
       "<AxesSubplot:ylabel='Density'>"
      ]
     },
     "execution_count": 16,
     "metadata": {},
     "output_type": "execute_result"
    },
    {
     "data": {
      "image/png": "[encoded data removed]",
      "text/plain": [
       "<Figure size 432x288 with 1 Axes>"
      ]
     },
     "metadata": {
      "needs_background": "light"
     },
     "output_type": "display_data"
    }
   ],
   "source": [
    "sns.distplot(x=del_time['Delivery Time'])"
   ]
  },
  {
   "cell_type": "code",
   "execution_count": 17,
   "id": "b66115c9",
   "metadata": {},
   "outputs": [
    {
     "data": {
      "text/plain": [
       "<AxesSubplot:xlabel='Sorting Time', ylabel='Delivery Time'>"
      ]
     },
     "execution_count": 17,
     "metadata": {},
     "output_type": "execute_result"
    },
    {
     "data": {
      "image/png": "[encoded data removed]",
      "text/plain": [
       "<Figure size 432x288 with 1 Axes>"
      ]
     },
     "metadata": {
      "needs_background": "light"
     },
     "output_type": "display_data"
    }
   ],
   "source": [
    "sns.regplot(x='Sorting Time',y='Delivery Time',data=del_time)"
   ]
  },
  {
   "cell_type": "markdown",
   "id": "42fa565f",
   "metadata": {},
   "source": [
    "# 4.Model Building"
   ]
  },
  {
   "cell_type": "code",
   "execution_count": 18,
   "id": "50bab8d1",
   "metadata": {},
   "outputs": [],
   "source": [
    "import statsmodels.formula.api as smf"
   ]
  },
  {
   "cell_type": "code",
   "execution_count": 19,
   "id": "0627f858",
   "metadata": {},
   "outputs": [],
   "source": [
    "xvar=del_time[['Sorting Time']]\n",
    "yvar=del_time[['Delivery Time']]"
   ]
  },
  {
   "cell_type": "code",
   "execution_count": 22,
   "id": "a8aa4709",
   "metadata": {},
   "outputs": [],
   "source": [
    "model=smf.ols('yvar~xvar',data=del_time).fit()"
   ]
  },
  {
   "cell_type": "code",
   "execution_count": 23,
   "id": "be62b73f",
   "metadata": {},
   "outputs": [
    {
     "data": {
      "text/plain": [
       "Intercept    6.582734\n",
       "xvar         1.649020\n",
       "dtype: float64"
      ]
     },
     "execution_count": 23,
     "metadata": {},
     "output_type": "execute_result"
    }
   ],
   "source": [
    "model.params"
   ]
  },
  {
   "cell_type": "markdown",
   "id": "b95f37cc",
   "metadata": {},
   "source": [
    "# 5.Model evaluation"
   ]
  },
  {
   "cell_type": "code",
   "execution_count": 24,
   "id": "722c8d29",
   "metadata": {},
   "outputs": [],
   "source": [
    "y_pred=model.predict(xvar)"
   ]
  },
  {
   "cell_type": "code",
   "execution_count": 26,
   "id": "0366adbf",
   "metadata": {},
   "outputs": [
    {
     "name": "stdout",
     "output_type": "stream",
     "text": [
      "Mean squared error: 7.793311548584062\n",
      "R2 score is: 0.6822714748417231\n"
     ]
    }
   ],
   "source": [
    "from sklearn.metrics import mean_squared_error,r2_score\n",
    "print(\"Mean squared error:\",mean_squared_error(yvar,y_pred))\n",
    "print('R2 score is:',r2_score(yvar,y_pred))"
   ]
  },
  {
   "cell_type": "markdown",
   "id": "6559cbd7",
   "metadata": {},
   "source": [
    "Inference\n",
    "\n",
    "For a better model, the mean sqaure value should be close to zero, and R2 score should be close to 1"
   ]
  },
  {
   "cell_type": "code",
   "execution_count": null,
   "id": "1347dd08",
   "metadata": {},
   "outputs": [],
   "source": []
  }
 ],
 "metadata": {
  "kernelspec": {
   "display_name": "Python 3 (ipykernel)",
   "language": "python",
   "name": "python3"
  },
  "language_info": {
   "codemirror_mode": {
    "name": "ipython",
    "version": 3
   },
   "file_extension": ".py",
   "mimetype": "text/x-python",
   "name": "python",
   "nbconvert_exporter": "python",
   "pygments_lexer": "ipython3",
   "version": "3.9.6"
  }
 },
 "nbformat": 4,
 "nbformat_minor": 5
}
