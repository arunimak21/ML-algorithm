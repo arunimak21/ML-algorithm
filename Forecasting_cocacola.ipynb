{
 "cells": [
  {
   "cell_type": "code",
   "execution_count": 11,
   "id": "668d3714",
   "metadata": {},
   "outputs": [],
   "source": [
    "import pandas as pd\n",
    "import numpy as np\n",
    "import matplotlib.pyplot as plt\n",
    "from matplotlib import pyplot\n",
    "import seaborn as sns\n",
    "from statsmodels.tsa.seasonal import seasonal_decompose as smf"
   ]
  },
  {
   "cell_type": "code",
   "execution_count": 13,
   "id": "7a685040",
   "metadata": {},
   "outputs": [
    {
     "data": {
      "text/html": [
       "<div>\n",
       "<style scoped>\n",
       "    .dataframe tbody tr th:only-of-type {\n",
       "        vertical-align: middle;\n",
       "    }\n",
       "\n",
       "    .dataframe tbody tr th {\n",
       "        vertical-align: top;\n",
       "    }\n",
       "\n",
       "    .dataframe thead th {\n",
       "        text-align: right;\n",
       "    }\n",
       "</style>\n",
       "<table border=\"1\" class=\"dataframe\">\n",
       "  <thead>\n",
       "    <tr style=\"text-align: right;\">\n",
       "      <th></th>\n",
       "      <th>Quarter</th>\n",
       "      <th>Sales</th>\n",
       "    </tr>\n",
       "  </thead>\n",
       "  <tbody>\n",
       "    <tr>\n",
       "      <th>0</th>\n",
       "      <td>Q1_86</td>\n",
       "      <td>1734.827000</td>\n",
       "    </tr>\n",
       "    <tr>\n",
       "      <th>1</th>\n",
       "      <td>Q2_86</td>\n",
       "      <td>2244.960999</td>\n",
       "    </tr>\n",
       "    <tr>\n",
       "      <th>2</th>\n",
       "      <td>Q3_86</td>\n",
       "      <td>2533.804993</td>\n",
       "    </tr>\n",
       "    <tr>\n",
       "      <th>3</th>\n",
       "      <td>Q4_86</td>\n",
       "      <td>2154.962997</td>\n",
       "    </tr>\n",
       "    <tr>\n",
       "      <th>4</th>\n",
       "      <td>Q1_87</td>\n",
       "      <td>1547.818996</td>\n",
       "    </tr>\n",
       "  </tbody>\n",
       "</table>\n",
       "</div>"
      ],
      "text/plain": [
       "  Quarter        Sales\n",
       "0   Q1_86  1734.827000\n",
       "1   Q2_86  2244.960999\n",
       "2   Q3_86  2533.804993\n",
       "3   Q4_86  2154.962997\n",
       "4   Q1_87  1547.818996"
      ]
     },
     "execution_count": 13,
     "metadata": {},
     "output_type": "execute_result"
    }
   ],
   "source": [
    "df=pd.read_excel('CocaCola_Sales_Rawdata.xlsx')\n",
    "df.head()"
   ]
  },
  {
   "cell_type": "code",
   "execution_count": 14,
   "id": "59b71430",
   "metadata": {},
   "outputs": [
    {
     "data": {
      "text/html": [
       "<div>\n",
       "<style scoped>\n",
       "    .dataframe tbody tr th:only-of-type {\n",
       "        vertical-align: middle;\n",
       "    }\n",
       "\n",
       "    .dataframe tbody tr th {\n",
       "        vertical-align: top;\n",
       "    }\n",
       "\n",
       "    .dataframe thead th {\n",
       "        text-align: right;\n",
       "    }\n",
       "</style>\n",
       "<table border=\"1\" class=\"dataframe\">\n",
       "  <thead>\n",
       "    <tr style=\"text-align: right;\">\n",
       "      <th></th>\n",
       "      <th>Sales</th>\n",
       "    </tr>\n",
       "  </thead>\n",
       "  <tbody>\n",
       "    <tr>\n",
       "      <th>count</th>\n",
       "      <td>42.000000</td>\n",
       "    </tr>\n",
       "    <tr>\n",
       "      <th>mean</th>\n",
       "      <td>2994.353308</td>\n",
       "    </tr>\n",
       "    <tr>\n",
       "      <th>std</th>\n",
       "      <td>977.930896</td>\n",
       "    </tr>\n",
       "    <tr>\n",
       "      <th>min</th>\n",
       "      <td>1547.818996</td>\n",
       "    </tr>\n",
       "    <tr>\n",
       "      <th>25%</th>\n",
       "      <td>2159.714247</td>\n",
       "    </tr>\n",
       "    <tr>\n",
       "      <th>50%</th>\n",
       "      <td>2782.376999</td>\n",
       "    </tr>\n",
       "    <tr>\n",
       "      <th>75%</th>\n",
       "      <td>3609.250000</td>\n",
       "    </tr>\n",
       "    <tr>\n",
       "      <th>max</th>\n",
       "      <td>5253.000000</td>\n",
       "    </tr>\n",
       "  </tbody>\n",
       "</table>\n",
       "</div>"
      ],
      "text/plain": [
       "             Sales\n",
       "count    42.000000\n",
       "mean   2994.353308\n",
       "std     977.930896\n",
       "min    1547.818996\n",
       "25%    2159.714247\n",
       "50%    2782.376999\n",
       "75%    3609.250000\n",
       "max    5253.000000"
      ]
     },
     "execution_count": 14,
     "metadata": {},
     "output_type": "execute_result"
    }
   ],
   "source": [
    "df.describe()"
   ]
  },
  {
   "cell_type": "code",
   "execution_count": 15,
   "id": "99da2e18",
   "metadata": {},
   "outputs": [
    {
     "name": "stdout",
     "output_type": "stream",
     "text": [
      "<class 'pandas.core.frame.DataFrame'>\n",
      "RangeIndex: 42 entries, 0 to 41\n",
      "Data columns (total 2 columns):\n",
      " #   Column   Non-Null Count  Dtype  \n",
      "---  ------   --------------  -----  \n",
      " 0   Quarter  42 non-null     object \n",
      " 1   Sales    42 non-null     float64\n",
      "dtypes: float64(1), object(1)\n",
      "memory usage: 800.0+ bytes\n"
     ]
    }
   ],
   "source": [
    "df.info()"
   ]
  },
  {
   "cell_type": "code",
   "execution_count": 16,
   "id": "6115b21b",
   "metadata": {},
   "outputs": [
    {
     "data": {
      "text/plain": [
       "Quarter    0\n",
       "Sales      0\n",
       "dtype: int64"
      ]
     },
     "execution_count": 16,
     "metadata": {},
     "output_type": "execute_result"
    }
   ],
   "source": [
    "df.isnull().sum()"
   ]
  },
  {
   "cell_type": "code",
   "execution_count": 17,
   "id": "b3f5a2c4",
   "metadata": {},
   "outputs": [
    {
     "data": {
      "text/plain": [
       "<AxesSubplot:xlabel='Quarter', ylabel='Sales'>"
      ]
     },
     "execution_count": 17,
     "metadata": {},
     "output_type": "execute_result"
    },
    {
     "data": {
      "image/png": "[encoded data removed]",
      "text/plain": [
       "<Figure size 432x288 with 1 Axes>"
      ]
     },
     "metadata": {
      "needs_background": "light"
     },
     "output_type": "display_data"
    }
   ],
   "source": [
    "sns.lineplot(x=\"Quarter\",y=\"Sales\",data=df)"
   ]
  },
  {
   "cell_type": "code",
   "execution_count": 21,
   "id": "897af7b5",
   "metadata": {},
   "outputs": [
    {
     "data": {
      "image/png": "[encoded data removed]",
      "text/plain": [
       "<Figure size 432x288 with 4 Axes>"
      ]
     },
     "execution_count": 21,
     "metadata": {},
     "output_type": "execute_result"
    },
    {
     "data": {
      "image/png": "[encoded data removed]",
      "text/plain": [
       "<Figure size 432x288 with 4 Axes>"
      ]
     },
     "metadata": {
      "needs_background": "light"
     },
     "output_type": "display_data"
    }
   ],
   "source": [
    "seasonal_ts_add=smf(df[\"Sales\"], period=10)\n",
    "seasonal_ts_add.plot()"
   ]
  },
  {
   "cell_type": "code",
   "execution_count": 22,
   "id": "47ec9b13",
   "metadata": {},
   "outputs": [
    {
     "data": {
      "image/png": "[encoded data removed]",
      "text/plain": [
       "<Figure size 432x288 with 1 Axes>"
      ]
     },
     "metadata": {
      "needs_background": "light"
     },
     "output_type": "display_data"
    }
   ],
   "source": [
    "df.hist()\n",
    "pyplot.show()"
   ]
  },
  {
   "cell_type": "code",
   "execution_count": 23,
   "id": "5c0b1895",
   "metadata": {},
   "outputs": [
    {
     "data": {
      "text/plain": [
       "<AxesSubplot:>"
      ]
     },
     "execution_count": 23,
     "metadata": {},
     "output_type": "execute_result"
    },
    {
     "data": {
      "image/png": "[encoded data removed]",
      "text/plain": [
       "<Figure size 432x288 with 1 Axes>"
      ]
     },
     "metadata": {
      "needs_background": "light"
     },
     "output_type": "display_data"
    }
   ],
   "source": [
    "sns.boxplot(data=df['Sales'])"
   ]
  },
  {
   "cell_type": "code",
   "execution_count": 24,
   "id": "af3ce070",
   "metadata": {},
   "outputs": [
    {
     "name": "stderr",
     "output_type": "stream",
     "text": [
      "C:\\Users\\HP\\AppData\\Local\\Temp\\ipykernel_5168\\1230026533.py:8: SettingWithCopyWarning: \n",
      "A value is trying to be set on a copy of a slice from a DataFrame\n",
      "\n",
      "See the caveats in the documentation: https://pandas.pydata.org/pandas-docs/stable/user_guide/indexing.html#returning-a-view-versus-a-copy\n",
      "  df['quarter'][i]= p[0:2]\n",
      "C:\\Users\\HP\\AppData\\Roaming\\Python\\Python39\\site-packages\\pandas\\core\\indexing.py:1732: SettingWithCopyWarning: \n",
      "A value is trying to be set on a copy of a slice from a DataFrame\n",
      "\n",
      "See the caveats in the documentation: https://pandas.pydata.org/pandas-docs/stable/user_guide/indexing.html#returning-a-view-versus-a-copy\n",
      "  self._setitem_single_block(indexer, value, name)\n"
     ]
    },
    {
     "data": {
      "text/html": [
       "<div>\n",
       "<style scoped>\n",
       "    .dataframe tbody tr th:only-of-type {\n",
       "        vertical-align: middle;\n",
       "    }\n",
       "\n",
       "    .dataframe tbody tr th {\n",
       "        vertical-align: top;\n",
       "    }\n",
       "\n",
       "    .dataframe thead th {\n",
       "        text-align: right;\n",
       "    }\n",
       "</style>\n",
       "<table border=\"1\" class=\"dataframe\">\n",
       "  <thead>\n",
       "    <tr style=\"text-align: right;\">\n",
       "      <th></th>\n",
       "      <th>Quarter</th>\n",
       "      <th>Sales</th>\n",
       "      <th>quarter</th>\n",
       "    </tr>\n",
       "  </thead>\n",
       "  <tbody>\n",
       "    <tr>\n",
       "      <th>0</th>\n",
       "      <td>Q1_86</td>\n",
       "      <td>1734.827000</td>\n",
       "      <td>Q1</td>\n",
       "    </tr>\n",
       "    <tr>\n",
       "      <th>1</th>\n",
       "      <td>Q2_86</td>\n",
       "      <td>2244.960999</td>\n",
       "      <td>Q2</td>\n",
       "    </tr>\n",
       "    <tr>\n",
       "      <th>2</th>\n",
       "      <td>Q3_86</td>\n",
       "      <td>2533.804993</td>\n",
       "      <td>Q3</td>\n",
       "    </tr>\n",
       "    <tr>\n",
       "      <th>3</th>\n",
       "      <td>Q4_86</td>\n",
       "      <td>2154.962997</td>\n",
       "      <td>Q4</td>\n",
       "    </tr>\n",
       "    <tr>\n",
       "      <th>4</th>\n",
       "      <td>Q1_87</td>\n",
       "      <td>1547.818996</td>\n",
       "      <td>Q1</td>\n",
       "    </tr>\n",
       "  </tbody>\n",
       "</table>\n",
       "</div>"
      ],
      "text/plain": [
       "  Quarter        Sales quarter\n",
       "0   Q1_86  1734.827000      Q1\n",
       "1   Q2_86  2244.960999      Q2\n",
       "2   Q3_86  2533.804993      Q3\n",
       "3   Q4_86  2154.962997      Q4\n",
       "4   Q1_87  1547.818996      Q1"
      ]
     },
     "execution_count": 24,
     "metadata": {},
     "output_type": "execute_result"
    }
   ],
   "source": [
    "quarter =['Q1','Q2','Q3','Q4']\n",
    "p = df[\"Quarter\"][0]\n",
    "p[0:2]\n",
    "df['quarter']= 0\n",
    "\n",
    "for i in range(42):\n",
    "    p = df[\"Quarter\"][i]\n",
    "    df['quarter'][i]= p[0:2]\n",
    "\n",
    "df.head()"
   ]
  },
  {
   "cell_type": "code",
   "execution_count": 25,
   "id": "ee76afc0",
   "metadata": {},
   "outputs": [
    {
     "data": {
      "text/html": [
       "<div>\n",
       "<style scoped>\n",
       "    .dataframe tbody tr th:only-of-type {\n",
       "        vertical-align: middle;\n",
       "    }\n",
       "\n",
       "    .dataframe tbody tr th {\n",
       "        vertical-align: top;\n",
       "    }\n",
       "\n",
       "    .dataframe thead th {\n",
       "        text-align: right;\n",
       "    }\n",
       "</style>\n",
       "<table border=\"1\" class=\"dataframe\">\n",
       "  <thead>\n",
       "    <tr style=\"text-align: right;\">\n",
       "      <th></th>\n",
       "      <th>Quarter</th>\n",
       "      <th>Sales</th>\n",
       "      <th>quarter</th>\n",
       "      <th>Q1</th>\n",
       "      <th>Q2</th>\n",
       "      <th>Q3</th>\n",
       "      <th>Q4</th>\n",
       "    </tr>\n",
       "  </thead>\n",
       "  <tbody>\n",
       "    <tr>\n",
       "      <th>0</th>\n",
       "      <td>Q1_86</td>\n",
       "      <td>1734.827000</td>\n",
       "      <td>Q1</td>\n",
       "      <td>1</td>\n",
       "      <td>0</td>\n",
       "      <td>0</td>\n",
       "      <td>0</td>\n",
       "    </tr>\n",
       "    <tr>\n",
       "      <th>1</th>\n",
       "      <td>Q2_86</td>\n",
       "      <td>2244.960999</td>\n",
       "      <td>Q2</td>\n",
       "      <td>0</td>\n",
       "      <td>1</td>\n",
       "      <td>0</td>\n",
       "      <td>0</td>\n",
       "    </tr>\n",
       "    <tr>\n",
       "      <th>2</th>\n",
       "      <td>Q3_86</td>\n",
       "      <td>2533.804993</td>\n",
       "      <td>Q3</td>\n",
       "      <td>0</td>\n",
       "      <td>0</td>\n",
       "      <td>1</td>\n",
       "      <td>0</td>\n",
       "    </tr>\n",
       "    <tr>\n",
       "      <th>3</th>\n",
       "      <td>Q4_86</td>\n",
       "      <td>2154.962997</td>\n",
       "      <td>Q4</td>\n",
       "      <td>0</td>\n",
       "      <td>0</td>\n",
       "      <td>0</td>\n",
       "      <td>1</td>\n",
       "    </tr>\n",
       "    <tr>\n",
       "      <th>4</th>\n",
       "      <td>Q1_87</td>\n",
       "      <td>1547.818996</td>\n",
       "      <td>Q1</td>\n",
       "      <td>1</td>\n",
       "      <td>0</td>\n",
       "      <td>0</td>\n",
       "      <td>0</td>\n",
       "    </tr>\n",
       "  </tbody>\n",
       "</table>\n",
       "</div>"
      ],
      "text/plain": [
       "  Quarter        Sales quarter  Q1  Q2  Q3  Q4\n",
       "0   Q1_86  1734.827000      Q1   1   0   0   0\n",
       "1   Q2_86  2244.960999      Q2   0   1   0   0\n",
       "2   Q3_86  2533.804993      Q3   0   0   1   0\n",
       "3   Q4_86  2154.962997      Q4   0   0   0   1\n",
       "4   Q1_87  1547.818996      Q1   1   0   0   0"
      ]
     },
     "execution_count": 25,
     "metadata": {},
     "output_type": "execute_result"
    }
   ],
   "source": [
    "quarter_dummies = pd.DataFrame(pd.get_dummies(df['quarter']))\n",
    "df1 = pd.concat([df,quarter_dummies],axis = 1)\n",
    "df1.head()"
   ]
  },
  {
   "cell_type": "code",
   "execution_count": 26,
   "id": "fb83a647",
   "metadata": {},
   "outputs": [
    {
     "data": {
      "text/html": [
       "<div>\n",
       "<style scoped>\n",
       "    .dataframe tbody tr th:only-of-type {\n",
       "        vertical-align: middle;\n",
       "    }\n",
       "\n",
       "    .dataframe tbody tr th {\n",
       "        vertical-align: top;\n",
       "    }\n",
       "\n",
       "    .dataframe thead th {\n",
       "        text-align: right;\n",
       "    }\n",
       "</style>\n",
       "<table border=\"1\" class=\"dataframe\">\n",
       "  <thead>\n",
       "    <tr style=\"text-align: right;\">\n",
       "      <th></th>\n",
       "      <th>Quarter</th>\n",
       "      <th>Sales</th>\n",
       "      <th>quarter</th>\n",
       "      <th>Q1</th>\n",
       "      <th>Q2</th>\n",
       "      <th>Q3</th>\n",
       "      <th>Q4</th>\n",
       "      <th>t</th>\n",
       "      <th>t_squared</th>\n",
       "      <th>log_Sales</th>\n",
       "    </tr>\n",
       "  </thead>\n",
       "  <tbody>\n",
       "    <tr>\n",
       "      <th>0</th>\n",
       "      <td>Q1_86</td>\n",
       "      <td>1734.827000</td>\n",
       "      <td>Q1</td>\n",
       "      <td>1</td>\n",
       "      <td>0</td>\n",
       "      <td>0</td>\n",
       "      <td>0</td>\n",
       "      <td>1</td>\n",
       "      <td>1</td>\n",
       "      <td>7.458663</td>\n",
       "    </tr>\n",
       "    <tr>\n",
       "      <th>1</th>\n",
       "      <td>Q2_86</td>\n",
       "      <td>2244.960999</td>\n",
       "      <td>Q2</td>\n",
       "      <td>0</td>\n",
       "      <td>1</td>\n",
       "      <td>0</td>\n",
       "      <td>0</td>\n",
       "      <td>2</td>\n",
       "      <td>4</td>\n",
       "      <td>7.716443</td>\n",
       "    </tr>\n",
       "    <tr>\n",
       "      <th>2</th>\n",
       "      <td>Q3_86</td>\n",
       "      <td>2533.804993</td>\n",
       "      <td>Q3</td>\n",
       "      <td>0</td>\n",
       "      <td>0</td>\n",
       "      <td>1</td>\n",
       "      <td>0</td>\n",
       "      <td>3</td>\n",
       "      <td>9</td>\n",
       "      <td>7.837477</td>\n",
       "    </tr>\n",
       "    <tr>\n",
       "      <th>3</th>\n",
       "      <td>Q4_86</td>\n",
       "      <td>2154.962997</td>\n",
       "      <td>Q4</td>\n",
       "      <td>0</td>\n",
       "      <td>0</td>\n",
       "      <td>0</td>\n",
       "      <td>1</td>\n",
       "      <td>4</td>\n",
       "      <td>16</td>\n",
       "      <td>7.675529</td>\n",
       "    </tr>\n",
       "    <tr>\n",
       "      <th>4</th>\n",
       "      <td>Q1_87</td>\n",
       "      <td>1547.818996</td>\n",
       "      <td>Q1</td>\n",
       "      <td>1</td>\n",
       "      <td>0</td>\n",
       "      <td>0</td>\n",
       "      <td>0</td>\n",
       "      <td>5</td>\n",
       "      <td>25</td>\n",
       "      <td>7.344602</td>\n",
       "    </tr>\n",
       "  </tbody>\n",
       "</table>\n",
       "</div>"
      ],
      "text/plain": [
       "  Quarter        Sales quarter  Q1  Q2  Q3  Q4  t  t_squared  log_Sales\n",
       "0   Q1_86  1734.827000      Q1   1   0   0   0  1          1   7.458663\n",
       "1   Q2_86  2244.960999      Q2   0   1   0   0  2          4   7.716443\n",
       "2   Q3_86  2533.804993      Q3   0   0   1   0  3          9   7.837477\n",
       "3   Q4_86  2154.962997      Q4   0   0   0   1  4         16   7.675529\n",
       "4   Q1_87  1547.818996      Q1   1   0   0   0  5         25   7.344602"
      ]
     },
     "execution_count": 26,
     "metadata": {},
     "output_type": "execute_result"
    }
   ],
   "source": [
    "df1[\"t\"] = np.arange(1,43)\n",
    "df1[\"t_squared\"] = df1[\"t\"]*df1[\"t\"]\n",
    "df1[\"log_Sales\"] = np.log(df1[\"Sales\"])\n",
    "df1.head()"
   ]
  },
  {
   "cell_type": "code",
   "execution_count": 27,
   "id": "572e02a2",
   "metadata": {},
   "outputs": [
    {
     "name": "stdout",
     "output_type": "stream",
     "text": [
      "RMSE Linear:  777.6287139221076\n"
     ]
    }
   ],
   "source": [
    "Train = df1.head(30)\n",
    "Test = df1.tail(10)\n",
    "# L I N E A R\n",
    "import statsmodels.formula.api as smf \n",
    "\n",
    "linear_model = smf.ols('Sales~t',data=Train).fit()\n",
    "pred_linear =  pd.Series(linear_model.predict(pd.DataFrame(Test['t'])))\n",
    "rmse_linear = np.sqrt(np.mean((np.array(Test['Sales'])-np.array(pred_linear))**2))\n",
    "print(\"RMSE Linear: \",rmse_linear)"
   ]
  },
  {
   "cell_type": "code",
   "execution_count": 28,
   "id": "4b93b33f",
   "metadata": {},
   "outputs": [
    {
     "name": "stdout",
     "output_type": "stream",
     "text": [
      "RMSE Exponential:  600.0893693739691\n"
     ]
    }
   ],
   "source": [
    "# Exponential \n",
    "\n",
    "Exp = smf.ols('log_Sales~t',data=Train).fit()\n",
    "pred_Exp = pd.Series(Exp.predict(pd.DataFrame(Test['t'])))\n",
    "rmse_Exp = np.sqrt(np.mean((np.array(Test['Sales'])-np.array(np.exp(pred_Exp)))**2))\n",
    "print(\"RMSE Exponential: \",rmse_Exp)"
   ]
  },
  {
   "cell_type": "code",
   "execution_count": 29,
   "id": "57fc9d77",
   "metadata": {},
   "outputs": [
    {
     "name": "stdout",
     "output_type": "stream",
     "text": [
      "RMSE Quadratic:  680.2527854192839\n"
     ]
    }
   ],
   "source": [
    "# Quadratic\n",
    "\n",
    "Quad = smf.ols('Sales~t+t_squared',data=Train).fit()\n",
    "pred_Quad = pd.Series(Quad.predict(Test[[\"t\",\"t_squared\"]]))\n",
    "rmse_Quad = np.sqrt(np.mean((np.array(Test['Sales'])-np.array(pred_Quad))**2))\n",
    "print(\"RMSE Quadratic: \",rmse_Quad)"
   ]
  },
  {
   "cell_type": "code",
   "execution_count": 30,
   "id": "b3ea1e3f",
   "metadata": {},
   "outputs": [
    {
     "name": "stdout",
     "output_type": "stream",
     "text": [
      "RMSE Additive seasonality:  1898.3504804157517\n"
     ]
    }
   ],
   "source": [
    "# Additive seasonality\n",
    "\n",
    "add_sea = smf.ols('Sales~Q1+Q2+Q3+Q4',data=Train).fit()\n",
    "pred_add_sea = pd.Series(add_sea.predict(Test[['Q1', 'Q2', 'Q3', 'Q4']]))\n",
    "rmse_add_sea = np.sqrt(np.mean((np.array(Test['Sales'])-np.array(pred_add_sea))**2))\n",
    "print(\"RMSE Additive seasonality: \",rmse_add_sea)"
   ]
  },
  {
   "cell_type": "code",
   "execution_count": 31,
   "id": "795f2513",
   "metadata": {},
   "outputs": [
    {
     "name": "stdout",
     "output_type": "stream",
     "text": [
      "RMSE Additive Seasonality Quadratic: 607.8520720183125\n"
     ]
    }
   ],
   "source": [
    "#Additive Seasonality Quadratic\n",
    "\n",
    "add_sea_Quad = smf.ols('Sales~t+t_squared+Q1+Q2+Q3+Q4',data=Train).fit()\n",
    "pred_add_sea_quad = pd.Series(add_sea_Quad.predict(Test[['Q1', 'Q2', 'Q3', 'Q4','t','t_squared']]))\n",
    "rmse_add_sea_quad = np.sqrt(np.mean((np.array(Test['Sales'])-np.array(pred_add_sea_quad))**2))\n",
    "print(\"RMSE Additive Seasonality Quadratic:\",rmse_add_sea_quad )"
   ]
  },
  {
   "cell_type": "code",
   "execution_count": 32,
   "id": "b886fd76",
   "metadata": {},
   "outputs": [
    {
     "name": "stdout",
     "output_type": "stream",
     "text": [
      "RMSE Multiplicative Seasonality: 1951.0349399697664\n"
     ]
    }
   ],
   "source": [
    "Mul_sea = smf.ols('log_Sales~Q1+Q2+Q3+Q4',data = Train).fit()\n",
    "pred_Mult_sea = pd.Series(Mul_sea.predict(Test))\n",
    "rmse_Mult_sea = np.sqrt(np.mean((np.array(Test['Sales'])-np.array(np.exp(pred_Mult_sea)))**2))\n",
    "print(\"RMSE Multiplicative Seasonality:\",rmse_Mult_sea)"
   ]
  },
  {
   "cell_type": "code",
   "execution_count": 33,
   "id": "18247fe2",
   "metadata": {},
   "outputs": [
    {
     "name": "stdout",
     "output_type": "stream",
     "text": [
      "RMSE Multiplicative Additive Seasonality: 449.4035489163288\n"
     ]
    }
   ],
   "source": [
    "Mul_Add_sea = smf.ols('log_Sales~t+Q1+Q2+Q3+Q4',data = Train).fit()\n",
    "pred_Mult_add_sea = pd.Series(Mul_Add_sea.predict(Test))\n",
    "rmse_Mult_add_sea = np.sqrt(np.mean((np.array(Test['Sales'])-np.array(np.exp(pred_Mult_add_sea)))**2))\n",
    "print(\"RMSE Multiplicative Additive Seasonality:\",rmse_Mult_add_sea )"
   ]
  },
  {
   "cell_type": "code",
   "execution_count": 34,
   "id": "75870e3c",
   "metadata": {},
   "outputs": [
    {
     "data": {
      "text/html": [
       "<div>\n",
       "<style scoped>\n",
       "    .dataframe tbody tr th:only-of-type {\n",
       "        vertical-align: middle;\n",
       "    }\n",
       "\n",
       "    .dataframe tbody tr th {\n",
       "        vertical-align: top;\n",
       "    }\n",
       "\n",
       "    .dataframe thead th {\n",
       "        text-align: right;\n",
       "    }\n",
       "</style>\n",
       "<table border=\"1\" class=\"dataframe\">\n",
       "  <thead>\n",
       "    <tr style=\"text-align: right;\">\n",
       "      <th></th>\n",
       "      <th>MODEL</th>\n",
       "      <th>RMSE_Values</th>\n",
       "    </tr>\n",
       "  </thead>\n",
       "  <tbody>\n",
       "    <tr>\n",
       "      <th>0</th>\n",
       "      <td>rmse_linear</td>\n",
       "      <td>777.628714</td>\n",
       "    </tr>\n",
       "    <tr>\n",
       "      <th>1</th>\n",
       "      <td>rmse_Exp</td>\n",
       "      <td>600.089369</td>\n",
       "    </tr>\n",
       "    <tr>\n",
       "      <th>2</th>\n",
       "      <td>rmse_Quad</td>\n",
       "      <td>680.252785</td>\n",
       "    </tr>\n",
       "    <tr>\n",
       "      <th>3</th>\n",
       "      <td>rmse_add_sea</td>\n",
       "      <td>1898.350480</td>\n",
       "    </tr>\n",
       "    <tr>\n",
       "      <th>4</th>\n",
       "      <td>rmse_add_sea_quad</td>\n",
       "      <td>607.852072</td>\n",
       "    </tr>\n",
       "    <tr>\n",
       "      <th>5</th>\n",
       "      <td>rmse_Mult_sea</td>\n",
       "      <td>1951.034940</td>\n",
       "    </tr>\n",
       "    <tr>\n",
       "      <th>6</th>\n",
       "      <td>rmse_Mult_add_sea</td>\n",
       "      <td>449.403549</td>\n",
       "    </tr>\n",
       "  </tbody>\n",
       "</table>\n",
       "</div>"
      ],
      "text/plain": [
       "               MODEL  RMSE_Values\n",
       "0        rmse_linear   777.628714\n",
       "1           rmse_Exp   600.089369\n",
       "2          rmse_Quad   680.252785\n",
       "3       rmse_add_sea  1898.350480\n",
       "4  rmse_add_sea_quad   607.852072\n",
       "5      rmse_Mult_sea  1951.034940\n",
       "6  rmse_Mult_add_sea   449.403549"
      ]
     },
     "execution_count": 34,
     "metadata": {},
     "output_type": "execute_result"
    }
   ],
   "source": [
    "# Testing \n",
    "\n",
    "data1 = {\"MODEL\":pd.Series([\"rmse_linear\",\"rmse_Exp\",\"rmse_Quad\",\"rmse_add_sea\",\"rmse_add_sea_quad\",\"rmse_Mult_sea\",\"rmse_Mult_add_sea\"]),\n",
    "        \"RMSE_Values\":pd.Series([rmse_linear,rmse_Exp,rmse_Quad,rmse_add_sea,rmse_add_sea_quad,rmse_Mult_sea,rmse_Mult_add_sea])}\n",
    "table_rmse=pd.DataFrame(data1)\n",
    "table_rmse"
   ]
  },
  {
   "cell_type": "code",
   "execution_count": 35,
   "id": "06b8cc6a",
   "metadata": {},
   "outputs": [
    {
     "name": "stdout",
     "output_type": "stream",
     "text": [
      "[['Q3_96', 'Q3'], ['Q4_96', 'Q4'], ['Q1_97', 'Q1'], ['Q2_97', 'Q2']]\n"
     ]
    },
    {
     "data": {
      "text/html": [
       "<div>\n",
       "<style scoped>\n",
       "    .dataframe tbody tr th:only-of-type {\n",
       "        vertical-align: middle;\n",
       "    }\n",
       "\n",
       "    .dataframe tbody tr th {\n",
       "        vertical-align: top;\n",
       "    }\n",
       "\n",
       "    .dataframe thead th {\n",
       "        text-align: right;\n",
       "    }\n",
       "</style>\n",
       "<table border=\"1\" class=\"dataframe\">\n",
       "  <thead>\n",
       "    <tr style=\"text-align: right;\">\n",
       "      <th></th>\n",
       "      <th>Quarter</th>\n",
       "      <th>quarter</th>\n",
       "    </tr>\n",
       "  </thead>\n",
       "  <tbody>\n",
       "    <tr>\n",
       "      <th>0</th>\n",
       "      <td>Q3_96</td>\n",
       "      <td>Q3</td>\n",
       "    </tr>\n",
       "    <tr>\n",
       "      <th>1</th>\n",
       "      <td>Q4_96</td>\n",
       "      <td>Q4</td>\n",
       "    </tr>\n",
       "    <tr>\n",
       "      <th>2</th>\n",
       "      <td>Q1_97</td>\n",
       "      <td>Q1</td>\n",
       "    </tr>\n",
       "    <tr>\n",
       "      <th>3</th>\n",
       "      <td>Q2_97</td>\n",
       "      <td>Q2</td>\n",
       "    </tr>\n",
       "  </tbody>\n",
       "</table>\n",
       "</div>"
      ],
      "text/plain": [
       "  Quarter quarter\n",
       "0   Q3_96      Q3\n",
       "1   Q4_96      Q4\n",
       "2   Q1_97      Q1\n",
       "3   Q2_97      Q2"
      ]
     },
     "execution_count": 35,
     "metadata": {},
     "output_type": "execute_result"
    }
   ],
   "source": [
    "data = [['Q3_96', 'Q3'], ['Q4_96', 'Q4'], ['Q1_97', 'Q1'],['Q2_97', 'Q2']]\n",
    "print(data)\n",
    "forecast = pd.DataFrame(data, columns = ['Quarter', 'quarter'])\n",
    "forecast"
   ]
  },
  {
   "cell_type": "code",
   "execution_count": 36,
   "id": "c863cecd",
   "metadata": {},
   "outputs": [
    {
     "name": "stdout",
     "output_type": "stream",
     "text": [
      "\n",
      "After Dummy, T and T-Square\n",
      "\n",
      "   Quarter quarter  Q1  Q2  Q3  Q4  t  t_squared\n",
      "0   Q3_96      Q3   0   0   1   0  1          1\n",
      "1   Q4_96      Q4   0   0   0   1  2          4\n",
      "2   Q1_97      Q1   1   0   0   0  3          9\n",
      "3   Q2_97      Q2   0   1   0   0  4         16\n"
     ]
    }
   ],
   "source": [
    "# Create dummies and T and T-Squared columns\n",
    "\n",
    "dummies = pd.DataFrame(pd.get_dummies(forecast['quarter']))\n",
    "forecast1 = pd.concat([forecast,dummies],axis = 1)\n",
    "\n",
    "forecast1[\"t\"] = np.arange(1,5)   \n",
    "forecast1[\"t_squared\"] = forecast1[\"t\"]*forecast1[\"t\"] \n",
    "print(\"\\nAfter Dummy, T and T-Square\\n\\n\",forecast1.head())"
   ]
  },
  {
   "cell_type": "code",
   "execution_count": 37,
   "id": "e898e523",
   "metadata": {},
   "outputs": [
    {
     "data": {
      "text/html": [
       "<div>\n",
       "<style scoped>\n",
       "    .dataframe tbody tr th:only-of-type {\n",
       "        vertical-align: middle;\n",
       "    }\n",
       "\n",
       "    .dataframe tbody tr th {\n",
       "        vertical-align: top;\n",
       "    }\n",
       "\n",
       "    .dataframe thead th {\n",
       "        text-align: right;\n",
       "    }\n",
       "</style>\n",
       "<table border=\"1\" class=\"dataframe\">\n",
       "  <thead>\n",
       "    <tr style=\"text-align: right;\">\n",
       "      <th></th>\n",
       "      <th>Quarter</th>\n",
       "      <th>forecasted_sales</th>\n",
       "    </tr>\n",
       "  </thead>\n",
       "  <tbody>\n",
       "    <tr>\n",
       "      <th>0</th>\n",
       "      <td>Q3_96</td>\n",
       "      <td>2180.858824</td>\n",
       "    </tr>\n",
       "    <tr>\n",
       "      <th>1</th>\n",
       "      <td>Q4_96</td>\n",
       "      <td>1851.383709</td>\n",
       "    </tr>\n",
       "    <tr>\n",
       "      <th>2</th>\n",
       "      <td>Q1_97</td>\n",
       "      <td>1635.419724</td>\n",
       "    </tr>\n",
       "    <tr>\n",
       "      <th>3</th>\n",
       "      <td>Q2_97</td>\n",
       "      <td>2284.261547</td>\n",
       "    </tr>\n",
       "  </tbody>\n",
       "</table>\n",
       "</div>"
      ],
      "text/plain": [
       "  Quarter  forecasted_sales\n",
       "0   Q3_96       2180.858824\n",
       "1   Q4_96       1851.383709\n",
       "2   Q1_97       1635.419724\n",
       "3   Q2_97       2284.261547"
      ]
     },
     "execution_count": 37,
     "metadata": {},
     "output_type": "execute_result"
    }
   ],
   "source": [
    "# Forecasting using Additive Seasonality Quadratic Model\n",
    "\n",
    "model_full = smf.ols('Sales~t+t_squared+Q1+Q2+Q3+Q4',data=df1).fit()\n",
    "pred_new  = pd.Series(model_full.predict(forecast1))\n",
    "pred_new\n",
    "\n",
    "forecast1[\"forecasted_sales\"] = pd.Series(pred_new)\n",
    "# Final Prediction for next 4 Quarters\n",
    "\n",
    "Final_predict = forecast1.loc[:, ['Quarter', 'forecasted_sales']] \n",
    "Final_predict"
   ]
  }
 ],
 "metadata": {
  "kernelspec": {
   "display_name": "Python 3 (ipykernel)",
   "language": "python",
   "name": "python3"
  },
  "language_info": {
   "codemirror_mode": {
    "name": "ipython",
    "version": 3
   },
   "file_extension": ".py",
   "mimetype": "text/x-python",
   "name": "python",
   "nbconvert_exporter": "python",
   "pygments_lexer": "ipython3",
   "version": "3.9.6"
  }
 },
 "nbformat": 4,
 "nbformat_minor": 5
}
