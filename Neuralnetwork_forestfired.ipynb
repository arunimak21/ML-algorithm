{
 "cells": [
  {
   "cell_type": "code",
   "execution_count": 1,
   "metadata": {
    "id": "JzSOmxJwA5PG"
   },
   "outputs": [],
   "source": [
    "#load the libraries\n",
    "import pandas as pd\n",
    "import numpy as np\n",
    "from sklearn.model_selection import train_test_split, cross_val_score\n",
    "import seaborn as sns\n",
    "from matplotlib import pyplot as plt\n",
    "from sklearn.decomposition import PCA\n",
    "import tensorflow as tf\n",
    "tf.debugging.set_log_device_placement(False) \n",
    "import warnings\n",
    "warnings.filterwarnings('ignore')"
   ]
  },
  {
   "cell_type": "markdown",
   "metadata": {
    "id": "_tBr8hsUA5PM"
   },
   "source": [
    "## Import New Dataset"
   ]
  },
  {
   "cell_type": "code",
   "execution_count": 2,
   "metadata": {
    "id": "KQWvlVQHA5PO"
   },
   "outputs": [],
   "source": [
    "# Generating reproducible results from same code\n",
    "tf.random.set_seed(14)  #Reference: https://www.youtube.com/watch?v=4ZhnXxfW8WQ&list=LL&index=1&t=1743s"
   ]
  },
  {
   "cell_type": "code",
   "execution_count": 3,
   "metadata": {
    "colab": {
     "base_uri": "https://localhost:8080/",
     "height": 223
    },
    "id": "aQi1Wz8pA5PP",
    "outputId": "f327d3ed-994d-4000-cfc6-56d78eb2cd75",
    "scrolled": true
   },
   "outputs": [
    {
     "data": {
      "text/html": [
       "<div>\n",
       "<style scoped>\n",
       "    .dataframe tbody tr th:only-of-type {\n",
       "        vertical-align: middle;\n",
       "    }\n",
       "\n",
       "    .dataframe tbody tr th {\n",
       "        vertical-align: top;\n",
       "    }\n",
       "\n",
       "    .dataframe thead th {\n",
       "        text-align: right;\n",
       "    }\n",
       "</style>\n",
       "<table border=\"1\" class=\"dataframe\">\n",
       "  <thead>\n",
       "    <tr style=\"text-align: right;\">\n",
       "      <th></th>\n",
       "      <th>month</th>\n",
       "      <th>day</th>\n",
       "      <th>FFMC</th>\n",
       "      <th>DMC</th>\n",
       "      <th>DC</th>\n",
       "      <th>ISI</th>\n",
       "      <th>temp</th>\n",
       "      <th>RH</th>\n",
       "      <th>wind</th>\n",
       "      <th>rain</th>\n",
       "      <th>...</th>\n",
       "      <th>monthfeb</th>\n",
       "      <th>monthjan</th>\n",
       "      <th>monthjul</th>\n",
       "      <th>monthjun</th>\n",
       "      <th>monthmar</th>\n",
       "      <th>monthmay</th>\n",
       "      <th>monthnov</th>\n",
       "      <th>monthoct</th>\n",
       "      <th>monthsep</th>\n",
       "      <th>size_category</th>\n",
       "    </tr>\n",
       "  </thead>\n",
       "  <tbody>\n",
       "    <tr>\n",
       "      <th>0</th>\n",
       "      <td>mar</td>\n",
       "      <td>fri</td>\n",
       "      <td>86.2</td>\n",
       "      <td>26.2</td>\n",
       "      <td>94.3</td>\n",
       "      <td>5.1</td>\n",
       "      <td>8.2</td>\n",
       "      <td>51</td>\n",
       "      <td>6.7</td>\n",
       "      <td>0.0</td>\n",
       "      <td>...</td>\n",
       "      <td>0</td>\n",
       "      <td>0</td>\n",
       "      <td>0</td>\n",
       "      <td>0</td>\n",
       "      <td>1</td>\n",
       "      <td>0</td>\n",
       "      <td>0</td>\n",
       "      <td>0</td>\n",
       "      <td>0</td>\n",
       "      <td>small</td>\n",
       "    </tr>\n",
       "    <tr>\n",
       "      <th>1</th>\n",
       "      <td>oct</td>\n",
       "      <td>tue</td>\n",
       "      <td>90.6</td>\n",
       "      <td>35.4</td>\n",
       "      <td>669.1</td>\n",
       "      <td>6.7</td>\n",
       "      <td>18.0</td>\n",
       "      <td>33</td>\n",
       "      <td>0.9</td>\n",
       "      <td>0.0</td>\n",
       "      <td>...</td>\n",
       "      <td>0</td>\n",
       "      <td>0</td>\n",
       "      <td>0</td>\n",
       "      <td>0</td>\n",
       "      <td>0</td>\n",
       "      <td>0</td>\n",
       "      <td>0</td>\n",
       "      <td>1</td>\n",
       "      <td>0</td>\n",
       "      <td>small</td>\n",
       "    </tr>\n",
       "    <tr>\n",
       "      <th>2</th>\n",
       "      <td>oct</td>\n",
       "      <td>sat</td>\n",
       "      <td>90.6</td>\n",
       "      <td>43.7</td>\n",
       "      <td>686.9</td>\n",
       "      <td>6.7</td>\n",
       "      <td>14.6</td>\n",
       "      <td>33</td>\n",
       "      <td>1.3</td>\n",
       "      <td>0.0</td>\n",
       "      <td>...</td>\n",
       "      <td>0</td>\n",
       "      <td>0</td>\n",
       "      <td>0</td>\n",
       "      <td>0</td>\n",
       "      <td>0</td>\n",
       "      <td>0</td>\n",
       "      <td>0</td>\n",
       "      <td>1</td>\n",
       "      <td>0</td>\n",
       "      <td>small</td>\n",
       "    </tr>\n",
       "    <tr>\n",
       "      <th>3</th>\n",
       "      <td>mar</td>\n",
       "      <td>fri</td>\n",
       "      <td>91.7</td>\n",
       "      <td>33.3</td>\n",
       "      <td>77.5</td>\n",
       "      <td>9.0</td>\n",
       "      <td>8.3</td>\n",
       "      <td>97</td>\n",
       "      <td>4.0</td>\n",
       "      <td>0.2</td>\n",
       "      <td>...</td>\n",
       "      <td>0</td>\n",
       "      <td>0</td>\n",
       "      <td>0</td>\n",
       "      <td>0</td>\n",
       "      <td>1</td>\n",
       "      <td>0</td>\n",
       "      <td>0</td>\n",
       "      <td>0</td>\n",
       "      <td>0</td>\n",
       "      <td>small</td>\n",
       "    </tr>\n",
       "    <tr>\n",
       "      <th>4</th>\n",
       "      <td>mar</td>\n",
       "      <td>sun</td>\n",
       "      <td>89.3</td>\n",
       "      <td>51.3</td>\n",
       "      <td>102.2</td>\n",
       "      <td>9.6</td>\n",
       "      <td>11.4</td>\n",
       "      <td>99</td>\n",
       "      <td>1.8</td>\n",
       "      <td>0.0</td>\n",
       "      <td>...</td>\n",
       "      <td>0</td>\n",
       "      <td>0</td>\n",
       "      <td>0</td>\n",
       "      <td>0</td>\n",
       "      <td>1</td>\n",
       "      <td>0</td>\n",
       "      <td>0</td>\n",
       "      <td>0</td>\n",
       "      <td>0</td>\n",
       "      <td>small</td>\n",
       "    </tr>\n",
       "  </tbody>\n",
       "</table>\n",
       "<p>5 rows × 31 columns</p>\n",
       "</div>"
      ],
      "text/plain": [
       "  month  day  FFMC   DMC     DC  ISI  temp  RH  wind  rain  ...  monthfeb  \\\n",
       "0   mar  fri  86.2  26.2   94.3  5.1   8.2  51   6.7   0.0  ...         0   \n",
       "1   oct  tue  90.6  35.4  669.1  6.7  18.0  33   0.9   0.0  ...         0   \n",
       "2   oct  sat  90.6  43.7  686.9  6.7  14.6  33   1.3   0.0  ...         0   \n",
       "3   mar  fri  91.7  33.3   77.5  9.0   8.3  97   4.0   0.2  ...         0   \n",
       "4   mar  sun  89.3  51.3  102.2  9.6  11.4  99   1.8   0.0  ...         0   \n",
       "\n",
       "   monthjan  monthjul  monthjun  monthmar  monthmay  monthnov  monthoct  \\\n",
       "0         0         0         0         1         0         0         0   \n",
       "1         0         0         0         0         0         0         1   \n",
       "2         0         0         0         0         0         0         1   \n",
       "3         0         0         0         1         0         0         0   \n",
       "4         0         0         0         1         0         0         0   \n",
       "\n",
       "   monthsep  size_category  \n",
       "0         0          small  \n",
       "1         0          small  \n",
       "2         0          small  \n",
       "3         0          small  \n",
       "4         0          small  \n",
       "\n",
       "[5 rows x 31 columns]"
      ]
     },
     "execution_count": 3,
     "metadata": {},
     "output_type": "execute_result"
    }
   ],
   "source": [
    "raw_data = pd.read_csv(\"forestfires.csv\")\n",
    "raw_data.head() \n",
    "#Dummy variables are also created in this process. However we do not require them since we can use label encoding."
   ]
  },
  {
   "cell_type": "code",
   "execution_count": 4,
   "metadata": {
    "id": "HpT9EJEhA5PQ"
   },
   "outputs": [],
   "source": [
    "df = raw_data.copy() #Removing the dummies at this time\n",
    "df.drop(df.columns[11:30],axis=1,inplace = True)"
   ]
  },
  {
   "cell_type": "code",
   "execution_count": 5,
   "metadata": {
    "colab": {
     "base_uri": "https://localhost:8080/"
    },
    "id": "zosPpmd_A5PR",
    "outputId": "9f2003fb-c9e1-4a76-a328-96e04b5a457c",
    "scrolled": true
   },
   "outputs": [
    {
     "name": "stdout",
     "output_type": "stream",
     "text": [
      "<class 'pandas.core.frame.DataFrame'>\n",
      "RangeIndex: 517 entries, 0 to 516\n",
      "Data columns (total 12 columns):\n",
      " #   Column         Non-Null Count  Dtype  \n",
      "---  ------         --------------  -----  \n",
      " 0   month          517 non-null    object \n",
      " 1   day            517 non-null    object \n",
      " 2   FFMC           517 non-null    float64\n",
      " 3   DMC            517 non-null    float64\n",
      " 4   DC             517 non-null    float64\n",
      " 5   ISI            517 non-null    float64\n",
      " 6   temp           517 non-null    float64\n",
      " 7   RH             517 non-null    int64  \n",
      " 8   wind           517 non-null    float64\n",
      " 9   rain           517 non-null    float64\n",
      " 10  area           517 non-null    float64\n",
      " 11  size_category  517 non-null    object \n",
      "dtypes: float64(8), int64(1), object(3)\n",
      "memory usage: 48.6+ KB\n"
     ]
    }
   ],
   "source": [
    "df.info() #No null values"
   ]
  },
  {
   "cell_type": "code",
   "execution_count": 6,
   "metadata": {
    "colab": {
     "base_uri": "https://localhost:8080/",
     "height": 295
    },
    "id": "xPUD3OaDA5PS",
    "outputId": "22ca1788-e3bf-4ab3-a8d6-7bdb9830e6e7"
   },
   "outputs": [
    {
     "data": {
      "text/html": [
       "<div>\n",
       "<style scoped>\n",
       "    .dataframe tbody tr th:only-of-type {\n",
       "        vertical-align: middle;\n",
       "    }\n",
       "\n",
       "    .dataframe tbody tr th {\n",
       "        vertical-align: top;\n",
       "    }\n",
       "\n",
       "    .dataframe thead th {\n",
       "        text-align: right;\n",
       "    }\n",
       "</style>\n",
       "<table border=\"1\" class=\"dataframe\">\n",
       "  <thead>\n",
       "    <tr style=\"text-align: right;\">\n",
       "      <th></th>\n",
       "      <th>FFMC</th>\n",
       "      <th>DMC</th>\n",
       "      <th>DC</th>\n",
       "      <th>ISI</th>\n",
       "      <th>temp</th>\n",
       "      <th>RH</th>\n",
       "      <th>wind</th>\n",
       "      <th>rain</th>\n",
       "      <th>area</th>\n",
       "    </tr>\n",
       "  </thead>\n",
       "  <tbody>\n",
       "    <tr>\n",
       "      <th>count</th>\n",
       "      <td>517.000000</td>\n",
       "      <td>517.000000</td>\n",
       "      <td>517.000000</td>\n",
       "      <td>517.000000</td>\n",
       "      <td>517.000000</td>\n",
       "      <td>517.000000</td>\n",
       "      <td>517.000000</td>\n",
       "      <td>517.000000</td>\n",
       "      <td>517.000000</td>\n",
       "    </tr>\n",
       "    <tr>\n",
       "      <th>mean</th>\n",
       "      <td>90.644681</td>\n",
       "      <td>110.872340</td>\n",
       "      <td>547.940039</td>\n",
       "      <td>9.021663</td>\n",
       "      <td>18.889168</td>\n",
       "      <td>44.288201</td>\n",
       "      <td>4.017602</td>\n",
       "      <td>0.021663</td>\n",
       "      <td>12.847292</td>\n",
       "    </tr>\n",
       "    <tr>\n",
       "      <th>std</th>\n",
       "      <td>5.520111</td>\n",
       "      <td>64.046482</td>\n",
       "      <td>248.066192</td>\n",
       "      <td>4.559477</td>\n",
       "      <td>5.806625</td>\n",
       "      <td>16.317469</td>\n",
       "      <td>1.791653</td>\n",
       "      <td>0.295959</td>\n",
       "      <td>63.655818</td>\n",
       "    </tr>\n",
       "    <tr>\n",
       "      <th>min</th>\n",
       "      <td>18.700000</td>\n",
       "      <td>1.100000</td>\n",
       "      <td>7.900000</td>\n",
       "      <td>0.000000</td>\n",
       "      <td>2.200000</td>\n",
       "      <td>15.000000</td>\n",
       "      <td>0.400000</td>\n",
       "      <td>0.000000</td>\n",
       "      <td>0.000000</td>\n",
       "    </tr>\n",
       "    <tr>\n",
       "      <th>25%</th>\n",
       "      <td>90.200000</td>\n",
       "      <td>68.600000</td>\n",
       "      <td>437.700000</td>\n",
       "      <td>6.500000</td>\n",
       "      <td>15.500000</td>\n",
       "      <td>33.000000</td>\n",
       "      <td>2.700000</td>\n",
       "      <td>0.000000</td>\n",
       "      <td>0.000000</td>\n",
       "    </tr>\n",
       "    <tr>\n",
       "      <th>50%</th>\n",
       "      <td>91.600000</td>\n",
       "      <td>108.300000</td>\n",
       "      <td>664.200000</td>\n",
       "      <td>8.400000</td>\n",
       "      <td>19.300000</td>\n",
       "      <td>42.000000</td>\n",
       "      <td>4.000000</td>\n",
       "      <td>0.000000</td>\n",
       "      <td>0.520000</td>\n",
       "    </tr>\n",
       "    <tr>\n",
       "      <th>75%</th>\n",
       "      <td>92.900000</td>\n",
       "      <td>142.400000</td>\n",
       "      <td>713.900000</td>\n",
       "      <td>10.800000</td>\n",
       "      <td>22.800000</td>\n",
       "      <td>53.000000</td>\n",
       "      <td>4.900000</td>\n",
       "      <td>0.000000</td>\n",
       "      <td>6.570000</td>\n",
       "    </tr>\n",
       "    <tr>\n",
       "      <th>max</th>\n",
       "      <td>96.200000</td>\n",
       "      <td>291.300000</td>\n",
       "      <td>860.600000</td>\n",
       "      <td>56.100000</td>\n",
       "      <td>33.300000</td>\n",
       "      <td>100.000000</td>\n",
       "      <td>9.400000</td>\n",
       "      <td>6.400000</td>\n",
       "      <td>1090.840000</td>\n",
       "    </tr>\n",
       "  </tbody>\n",
       "</table>\n",
       "</div>"
      ],
      "text/plain": [
       "             FFMC         DMC          DC         ISI        temp          RH  \\\n",
       "count  517.000000  517.000000  517.000000  517.000000  517.000000  517.000000   \n",
       "mean    90.644681  110.872340  547.940039    9.021663   18.889168   44.288201   \n",
       "std      5.520111   64.046482  248.066192    4.559477    5.806625   16.317469   \n",
       "min     18.700000    1.100000    7.900000    0.000000    2.200000   15.000000   \n",
       "25%     90.200000   68.600000  437.700000    6.500000   15.500000   33.000000   \n",
       "50%     91.600000  108.300000  664.200000    8.400000   19.300000   42.000000   \n",
       "75%     92.900000  142.400000  713.900000   10.800000   22.800000   53.000000   \n",
       "max     96.200000  291.300000  860.600000   56.100000   33.300000  100.000000   \n",
       "\n",
       "             wind        rain         area  \n",
       "count  517.000000  517.000000   517.000000  \n",
       "mean     4.017602    0.021663    12.847292  \n",
       "std      1.791653    0.295959    63.655818  \n",
       "min      0.400000    0.000000     0.000000  \n",
       "25%      2.700000    0.000000     0.000000  \n",
       "50%      4.000000    0.000000     0.520000  \n",
       "75%      4.900000    0.000000     6.570000  \n",
       "max      9.400000    6.400000  1090.840000  "
      ]
     },
     "execution_count": 6,
     "metadata": {},
     "output_type": "execute_result"
    }
   ],
   "source": [
    "df.describe()"
   ]
  },
  {
   "cell_type": "code",
   "execution_count": 7,
   "metadata": {
    "colab": {
     "base_uri": "https://localhost:8080/",
     "height": 325
    },
    "id": "9LR-5GC0A5PT",
    "outputId": "7c7e1018-ec13-4628-aade-315cfb5b638c"
   },
   "outputs": [
    {
     "data": {
      "text/plain": [
       "<AxesSubplot:>"
      ]
     },
     "execution_count": 7,
     "metadata": {},
     "output_type": "execute_result"
    },
    {
     "data": {
      "image/png": "[encoded data removed]",
      "text/plain": [
       "<Figure size 432x288 with 1 Axes>"
      ]
     },
     "metadata": {
      "needs_background": "light"
     },
     "output_type": "display_data"
    }
   ],
   "source": [
    "sns.set(rc={'figure.figsize':(20,5)})\n",
    "sns.boxplot(data=df, orient=\"v\", palette=\"Set2\") \n",
    "#There are outliers in the case of area. But we cannot discard it"
   ]
  },
  {
   "cell_type": "markdown",
   "metadata": {
    "id": "jbzQf47ZA5PU"
   },
   "source": [
    "## Feature Analysis\n",
    "\n",
    "All features in the dataset can be used in model building. "
   ]
  },
  {
   "cell_type": "code",
   "execution_count": 8,
   "metadata": {
    "colab": {
     "base_uri": "https://localhost:8080/"
    },
    "id": "M2FISGUWA5PW",
    "outputId": "e44765fb-d15d-4c39-e369-c28dcc102245",
    "scrolled": true
   },
   "outputs": [
    {
     "data": {
      "text/plain": [
       "aug    184\n",
       "sep    172\n",
       "mar     54\n",
       "jul     32\n",
       "feb     20\n",
       "jun     17\n",
       "oct     15\n",
       "apr      9\n",
       "dec      9\n",
       "jan      2\n",
       "may      2\n",
       "nov      1\n",
       "Name: month, dtype: int64"
      ]
     },
     "execution_count": 8,
     "metadata": {},
     "output_type": "execute_result"
    }
   ],
   "source": [
    "df.month.value_counts()"
   ]
  },
  {
   "cell_type": "code",
   "execution_count": 9,
   "metadata": {
    "colab": {
     "base_uri": "https://localhost:8080/"
    },
    "id": "QlwpZ92HA5PX",
    "outputId": "a62e1071-fdd0-40fa-bef8-2416997d9235",
    "scrolled": false
   },
   "outputs": [
    {
     "data": {
      "text/plain": [
       "small    378\n",
       "large    139\n",
       "Name: size_category, dtype: int64"
      ]
     },
     "execution_count": 9,
     "metadata": {},
     "output_type": "execute_result"
    }
   ],
   "source": [
    "df.size_category.value_counts() # The dataset is biased. Lets remove the bias."
   ]
  },
  {
   "cell_type": "code",
   "execution_count": 10,
   "metadata": {
    "colab": {
     "base_uri": "https://localhost:8080/",
     "height": 203
    },
    "id": "6DnDFKG2A5PY",
    "outputId": "975efd68-f9b4-48d4-b187-05db3700facb"
   },
   "outputs": [
    {
     "data": {
      "text/html": [
       "<div>\n",
       "<style scoped>\n",
       "    .dataframe tbody tr th:only-of-type {\n",
       "        vertical-align: middle;\n",
       "    }\n",
       "\n",
       "    .dataframe tbody tr th {\n",
       "        vertical-align: top;\n",
       "    }\n",
       "\n",
       "    .dataframe thead th {\n",
       "        text-align: right;\n",
       "    }\n",
       "</style>\n",
       "<table border=\"1\" class=\"dataframe\">\n",
       "  <thead>\n",
       "    <tr style=\"text-align: right;\">\n",
       "      <th></th>\n",
       "      <th>month</th>\n",
       "      <th>day</th>\n",
       "      <th>FFMC</th>\n",
       "      <th>DMC</th>\n",
       "      <th>DC</th>\n",
       "      <th>ISI</th>\n",
       "      <th>temp</th>\n",
       "      <th>RH</th>\n",
       "      <th>wind</th>\n",
       "      <th>rain</th>\n",
       "      <th>area</th>\n",
       "      <th>size_category</th>\n",
       "    </tr>\n",
       "  </thead>\n",
       "  <tbody>\n",
       "    <tr>\n",
       "      <th>0</th>\n",
       "      <td>7</td>\n",
       "      <td>0</td>\n",
       "      <td>86.2</td>\n",
       "      <td>26.2</td>\n",
       "      <td>94.3</td>\n",
       "      <td>5.1</td>\n",
       "      <td>8.2</td>\n",
       "      <td>51</td>\n",
       "      <td>6.7</td>\n",
       "      <td>0.0</td>\n",
       "      <td>0.0</td>\n",
       "      <td>1</td>\n",
       "    </tr>\n",
       "    <tr>\n",
       "      <th>1</th>\n",
       "      <td>10</td>\n",
       "      <td>5</td>\n",
       "      <td>90.6</td>\n",
       "      <td>35.4</td>\n",
       "      <td>669.1</td>\n",
       "      <td>6.7</td>\n",
       "      <td>18.0</td>\n",
       "      <td>33</td>\n",
       "      <td>0.9</td>\n",
       "      <td>0.0</td>\n",
       "      <td>0.0</td>\n",
       "      <td>1</td>\n",
       "    </tr>\n",
       "    <tr>\n",
       "      <th>2</th>\n",
       "      <td>10</td>\n",
       "      <td>2</td>\n",
       "      <td>90.6</td>\n",
       "      <td>43.7</td>\n",
       "      <td>686.9</td>\n",
       "      <td>6.7</td>\n",
       "      <td>14.6</td>\n",
       "      <td>33</td>\n",
       "      <td>1.3</td>\n",
       "      <td>0.0</td>\n",
       "      <td>0.0</td>\n",
       "      <td>1</td>\n",
       "    </tr>\n",
       "    <tr>\n",
       "      <th>3</th>\n",
       "      <td>7</td>\n",
       "      <td>0</td>\n",
       "      <td>91.7</td>\n",
       "      <td>33.3</td>\n",
       "      <td>77.5</td>\n",
       "      <td>9.0</td>\n",
       "      <td>8.3</td>\n",
       "      <td>97</td>\n",
       "      <td>4.0</td>\n",
       "      <td>0.2</td>\n",
       "      <td>0.0</td>\n",
       "      <td>1</td>\n",
       "    </tr>\n",
       "    <tr>\n",
       "      <th>4</th>\n",
       "      <td>7</td>\n",
       "      <td>3</td>\n",
       "      <td>89.3</td>\n",
       "      <td>51.3</td>\n",
       "      <td>102.2</td>\n",
       "      <td>9.6</td>\n",
       "      <td>11.4</td>\n",
       "      <td>99</td>\n",
       "      <td>1.8</td>\n",
       "      <td>0.0</td>\n",
       "      <td>0.0</td>\n",
       "      <td>1</td>\n",
       "    </tr>\n",
       "  </tbody>\n",
       "</table>\n",
       "</div>"
      ],
      "text/plain": [
       "   month  day  FFMC   DMC     DC  ISI  temp  RH  wind  rain  area  \\\n",
       "0      7    0  86.2  26.2   94.3  5.1   8.2  51   6.7   0.0   0.0   \n",
       "1     10    5  90.6  35.4  669.1  6.7  18.0  33   0.9   0.0   0.0   \n",
       "2     10    2  90.6  43.7  686.9  6.7  14.6  33   1.3   0.0   0.0   \n",
       "3      7    0  91.7  33.3   77.5  9.0   8.3  97   4.0   0.2   0.0   \n",
       "4      7    3  89.3  51.3  102.2  9.6  11.4  99   1.8   0.0   0.0   \n",
       "\n",
       "   size_category  \n",
       "0              1  \n",
       "1              1  \n",
       "2              1  \n",
       "3              1  \n",
       "4              1  "
      ]
     },
     "execution_count": 10,
     "metadata": {},
     "output_type": "execute_result"
    }
   ],
   "source": [
    "#We are going to perform label encoding since it is faster than dummy variables\n",
    "\n",
    "from sklearn import preprocessing\n",
    "label_encoder = preprocessing.LabelEncoder()\n",
    "df.month= label_encoder.fit_transform(df.month) \n",
    "df.day= label_encoder.fit_transform(df.day) \n",
    "df.size_category= label_encoder.fit_transform(df.size_category) \n",
    "df.head()"
   ]
  },
  {
   "cell_type": "markdown",
   "metadata": {
    "id": "TdIF1jDnA5PZ"
   },
   "source": [
    "### Removing Bias in the Dataset"
   ]
  },
  {
   "cell_type": "code",
   "execution_count": 11,
   "metadata": {
    "colab": {
     "base_uri": "https://localhost:8080/"
    },
    "id": "Af28CWM-A5Pa",
    "outputId": "e2c681d7-5683-42b3-8dca-e05051396364",
    "scrolled": false
   },
   "outputs": [
    {
     "name": "stdout",
     "output_type": "stream",
     "text": [
      "Counter({1: 378, 0: 139})\n",
      "Counter({1: 368, 0: 368})\n"
     ]
    }
   ],
   "source": [
    "from imblearn.combine import SMOTETomek\n",
    "from collections import Counter\n",
    "\n",
    "resamp = df.copy()\n",
    "#SMOTEK TECHNIQUE\n",
    "\n",
    "#Define dataset\n",
    "a = resamp.iloc[:,:-1]\n",
    "b = resamp.iloc[:,-1]\n",
    "\n",
    "#Count before\n",
    "print(Counter(b))\n",
    "\n",
    "smt = SMOTETomek(sampling_strategy = 'auto')\n",
    "a, b = smt.fit_resample(a, b)\n",
    "\n",
    "#Count after\n",
    "print(Counter(b)) #removed bias in dataset"
   ]
  },
  {
   "cell_type": "markdown",
   "metadata": {
    "id": "wwp7nY3oA5Pc"
   },
   "source": [
    "### Train | Split dataset\n",
    "#### Original Dataset"
   ]
  },
  {
   "cell_type": "code",
   "execution_count": 12,
   "metadata": {
    "id": "sKtc2KYSA5Pd"
   },
   "outputs": [],
   "source": [
    "X = a\n",
    "Y = b\n",
    "X_train, X_test, y_train, y_test = train_test_split(X,Y, test_size = 0.3)"
   ]
  },
  {
   "cell_type": "markdown",
   "metadata": {
    "id": "ovnwKjRsA5Pd"
   },
   "source": [
    "### Visualizing the data"
   ]
  },
  {
   "cell_type": "code",
   "execution_count": 13,
   "metadata": {
    "colab": {
     "base_uri": "https://localhost:8080/",
     "height": 341
    },
    "id": "UTFP9Zi5A5Pe",
    "outputId": "18328630-aaf9-4c3b-dd08-488274eaf0f5",
    "scrolled": true
   },
   "outputs": [
    {
     "data": {
      "text/plain": [
       "Text(0.5, 1.0, 'T-Sine Visualization of forest-fire dataset')"
      ]
     },
     "execution_count": 13,
     "metadata": {},
     "output_type": "execute_result"
    },
    {
     "data": {
      "image/png": "[encoded data removed]",
      "text/plain": [
       "<Figure size 432x288 with 1 Axes>"
      ]
     },
     "metadata": {
      "needs_background": "light"
     },
     "output_type": "display_data"
    }
   ],
   "source": [
    "#Visualising the data via dimensionality reduction t-Sine Technique\n",
    "from sklearn.manifold import TSNE\n",
    "\n",
    "data_tsne_pca = TSNE(n_components=2).fit_transform(a)\n",
    "sns.scatterplot(data_tsne_pca[:,0],data_tsne_pca[:,1],hue=b, palette=\"deep\").set_title('T-Sine Visualization of forest-fire dataset')"
   ]
  },
  {
   "cell_type": "markdown",
   "metadata": {
    "id": "Sf9gLOVFA5Pg"
   },
   "source": [
    "## Neural Network Modelling\n",
    "#### Building the Model"
   ]
  },
  {
   "cell_type": "code",
   "execution_count": 14,
   "metadata": {
    "id": "wmsYWu2mA5Pg"
   },
   "outputs": [],
   "source": [
    "import keras \n",
    "from keras.models import Sequential\n",
    "from keras.layers import Dense"
   ]
  },
  {
   "cell_type": "code",
   "execution_count": 15,
   "metadata": {
    "colab": {
     "base_uri": "https://localhost:8080/",
     "height": 35
    },
    "id": "B4Ijc_J-A5Ph",
    "outputId": "5548f36f-5e8f-4191-f1d3-4c8be76d9eb4"
   },
   "outputs": [
    {
     "data": {
      "text/plain": [
       "'2.10.0'"
      ]
     },
     "execution_count": 15,
     "metadata": {},
     "output_type": "execute_result"
    }
   ],
   "source": [
    "import keras\n",
    "keras. __version__ #init method is not available in this mdethod"
   ]
  },
  {
   "cell_type": "code",
   "execution_count": 16,
   "metadata": {
    "id": "augV6rSmA5Pi"
   },
   "outputs": [],
   "source": [
    "# create model\n",
    "model1 = Sequential()\n",
    "model1.add(Dense(14, input_dim=11, kernel_initializer='uniform', activation='relu'))\n",
    "model1.add(Dense(12,kernel_initializer='uniform', activation='relu'))\n",
    "model1.add(Dense(1, kernel_initializer='uniform', activation='sigmoid'))"
   ]
  },
  {
   "cell_type": "code",
   "execution_count": 17,
   "metadata": {
    "id": "7MHDmPCbA5Pj"
   },
   "outputs": [],
   "source": [
    "# Compile model\n",
    "model1.compile(loss='binary_crossentropy', optimizer='adam', metrics=['accuracy'])"
   ]
  },
  {
   "cell_type": "code",
   "execution_count": 18,
   "metadata": {
    "colab": {
     "base_uri": "https://localhost:8080/"
    },
    "id": "BOgIL90OA5Pk",
    "outputId": "65dd5bec-4243-45ed-d582-257cbcb72618",
    "scrolled": true
   },
   "outputs": [
    {
     "name": "stdout",
     "output_type": "stream",
     "text": [
      "Epoch 1/30\n",
      "35/35 [==============================] - 1s 12ms/step - loss: 0.6917 - accuracy: 0.5739 - val_loss: 0.6915 - val_accuracy: 0.5176\n",
      "Epoch 2/30\n",
      "35/35 [==============================] - 0s 5ms/step - loss: 0.6848 - accuracy: 0.5536 - val_loss: 0.6801 - val_accuracy: 0.6176\n",
      "Epoch 3/30\n",
      "35/35 [==============================] - 0s 4ms/step - loss: 0.6556 - accuracy: 0.7072 - val_loss: 0.6205 - val_accuracy: 0.8882\n",
      "Epoch 4/30\n",
      "35/35 [==============================] - 0s 4ms/step - loss: 0.5770 - accuracy: 0.7623 - val_loss: 0.5343 - val_accuracy: 0.9235\n",
      "Epoch 5/30\n",
      "35/35 [==============================] - 0s 4ms/step - loss: 0.4779 - accuracy: 0.8290 - val_loss: 0.4398 - val_accuracy: 0.8176\n",
      "Epoch 6/30\n",
      "35/35 [==============================] - 0s 4ms/step - loss: 0.3833 - accuracy: 0.8812 - val_loss: 0.3511 - val_accuracy: 0.8588\n",
      "Epoch 7/30\n",
      "35/35 [==============================] - 0s 4ms/step - loss: 0.3227 - accuracy: 0.8899 - val_loss: 0.2732 - val_accuracy: 0.9176\n",
      "Epoch 8/30\n",
      "35/35 [==============================] - 0s 4ms/step - loss: 0.2493 - accuracy: 0.9449 - val_loss: 0.2153 - val_accuracy: 0.9941\n",
      "Epoch 9/30\n",
      "35/35 [==============================] - 0s 4ms/step - loss: 0.1986 - accuracy: 0.9507 - val_loss: 0.1692 - val_accuracy: 1.0000\n",
      "Epoch 10/30\n",
      "35/35 [==============================] - 0s 4ms/step - loss: 0.1629 - accuracy: 0.9681 - val_loss: 0.1393 - val_accuracy: 0.9882\n",
      "Epoch 11/30\n",
      "35/35 [==============================] - 0s 4ms/step - loss: 0.1330 - accuracy: 0.9739 - val_loss: 0.1129 - val_accuracy: 0.9941\n",
      "Epoch 12/30\n",
      "35/35 [==============================] - 0s 4ms/step - loss: 0.1074 - accuracy: 0.9797 - val_loss: 0.0923 - val_accuracy: 0.9941\n",
      "Epoch 13/30\n",
      "35/35 [==============================] - 0s 4ms/step - loss: 0.0938 - accuracy: 0.9797 - val_loss: 0.1028 - val_accuracy: 0.9706\n",
      "Epoch 14/30\n",
      "35/35 [==============================] - 0s 4ms/step - loss: 0.1003 - accuracy: 0.9681 - val_loss: 0.0716 - val_accuracy: 0.9941\n",
      "Epoch 15/30\n",
      "35/35 [==============================] - 0s 4ms/step - loss: 0.0743 - accuracy: 0.9797 - val_loss: 0.0831 - val_accuracy: 0.9529\n",
      "Epoch 16/30\n",
      "35/35 [==============================] - 0s 4ms/step - loss: 0.0787 - accuracy: 0.9768 - val_loss: 0.0742 - val_accuracy: 0.9647\n",
      "Epoch 17/30\n",
      "35/35 [==============================] - 0s 4ms/step - loss: 0.0568 - accuracy: 0.9826 - val_loss: 0.0632 - val_accuracy: 0.9824\n",
      "Epoch 18/30\n",
      "35/35 [==============================] - 0s 4ms/step - loss: 0.0619 - accuracy: 0.9826 - val_loss: 0.0799 - val_accuracy: 0.9471\n",
      "Epoch 19/30\n",
      "35/35 [==============================] - 0s 4ms/step - loss: 0.0629 - accuracy: 0.9768 - val_loss: 0.0544 - val_accuracy: 0.9882\n",
      "Epoch 20/30\n",
      "35/35 [==============================] - 0s 4ms/step - loss: 0.0504 - accuracy: 0.9913 - val_loss: 0.0587 - val_accuracy: 0.9824\n",
      "Epoch 21/30\n",
      "35/35 [==============================] - 0s 4ms/step - loss: 0.0502 - accuracy: 0.9855 - val_loss: 0.0494 - val_accuracy: 0.9941\n",
      "Epoch 22/30\n",
      "35/35 [==============================] - 0s 4ms/step - loss: 0.0475 - accuracy: 0.9855 - val_loss: 0.0685 - val_accuracy: 0.9647\n",
      "Epoch 23/30\n",
      "35/35 [==============================] - 0s 4ms/step - loss: 0.0695 - accuracy: 0.9739 - val_loss: 0.1341 - val_accuracy: 0.9235\n",
      "Epoch 24/30\n",
      "35/35 [==============================] - 0s 4ms/step - loss: 0.0481 - accuracy: 0.9826 - val_loss: 0.0429 - val_accuracy: 0.9882\n",
      "Epoch 25/30\n",
      "35/35 [==============================] - 0s 4ms/step - loss: 0.0462 - accuracy: 0.9826 - val_loss: 0.0459 - val_accuracy: 0.9765\n",
      "Epoch 26/30\n",
      "35/35 [==============================] - 0s 4ms/step - loss: 0.0344 - accuracy: 0.9942 - val_loss: 0.0447 - val_accuracy: 0.9941\n",
      "Epoch 27/30\n",
      "35/35 [==============================] - 0s 4ms/step - loss: 0.0388 - accuracy: 0.9884 - val_loss: 0.0464 - val_accuracy: 0.9882\n",
      "Epoch 28/30\n",
      "35/35 [==============================] - 0s 4ms/step - loss: 0.0335 - accuracy: 0.9913 - val_loss: 0.0423 - val_accuracy: 0.9941\n",
      "Epoch 29/30\n",
      "35/35 [==============================] - 0s 4ms/step - loss: 0.0531 - accuracy: 0.9826 - val_loss: 0.0482 - val_accuracy: 0.9765\n",
      "Epoch 30/30\n",
      "35/35 [==============================] - 0s 4ms/step - loss: 0.0538 - accuracy: 0.9826 - val_loss: 0.2076 - val_accuracy: 0.9235\n"
     ]
    }
   ],
   "source": [
    "# Fit the model\n",
    "hist1 = model1.fit(X_train, y_train, validation_split=0.33, epochs=30, batch_size=10)\n",
    "#At epoch 25 itself our model reaches accuracy of 98% which maybe overfitting"
   ]
  },
  {
   "cell_type": "code",
   "execution_count": 19,
   "metadata": {
    "colab": {
     "base_uri": "https://localhost:8080/"
    },
    "id": "BKhFE070A5Pk",
    "outputId": "8ef21524-b330-4f8a-da40-69954397bb3f"
   },
   "outputs": [
    {
     "name": "stdout",
     "output_type": "stream",
     "text": [
      "Model: \"sequential\"\n",
      "_________________________________________________________________\n",
      " Layer (type)                Output Shape              Param #   \n",
      "=================================================================\n",
      " dense (Dense)               (None, 14)                168       \n",
      "                                                                 \n",
      " dense_1 (Dense)             (None, 12)                180       \n",
      "                                                                 \n",
      " dense_2 (Dense)             (None, 1)                 13        \n",
      "                                                                 \n",
      "=================================================================\n",
      "Total params: 361\n",
      "Trainable params: 361\n",
      "Non-trainable params: 0\n",
      "_________________________________________________________________\n"
     ]
    }
   ],
   "source": [
    "model1.summary() "
   ]
  },
  {
   "cell_type": "markdown",
   "metadata": {
    "id": "-wA-_G4RA5Pl"
   },
   "source": [
    "#### Model Evaluation"
   ]
  },
  {
   "cell_type": "code",
   "execution_count": 20,
   "metadata": {
    "colab": {
     "base_uri": "https://localhost:8080/"
    },
    "id": "ZwlHucUjA5Pl",
    "outputId": "ebceeda0-46d8-4314-a92f-3f984a07045f",
    "scrolled": false
   },
   "outputs": [
    {
     "name": "stdout",
     "output_type": "stream",
     "text": [
      "7/7 [==============================] - 0s 2ms/step - loss: 0.2143 - accuracy: 0.9231\n"
     ]
    }
   ],
   "source": [
    "test_loss, test_acc = model1.evaluate(X_test, y_test)"
   ]
  },
  {
   "cell_type": "code",
   "execution_count": 21,
   "metadata": {
    "colab": {
     "base_uri": "https://localhost:8080/"
    },
    "id": "7hf_KVQuA5Pl",
    "outputId": "8ab9bc58-522e-40b1-cb7b-e513386b252c"
   },
   "outputs": [
    {
     "name": "stdout",
     "output_type": "stream",
     "text": [
      "dict_keys(['loss', 'accuracy', 'val_loss', 'val_accuracy'])\n"
     ]
    }
   ],
   "source": [
    "print(hist1.history.keys())"
   ]
  },
  {
   "cell_type": "code",
   "execution_count": 22,
   "metadata": {
    "colab": {
     "base_uri": "https://localhost:8080/",
     "height": 0
    },
    "id": "Z3pXNySdA5Pm",
    "outputId": "1c572bff-8b19-49e9-b5cc-befc8f94fc36"
   },
   "outputs": [
    {
     "data": {
      "text/html": [
       "<div>\n",
       "<style scoped>\n",
       "    .dataframe tbody tr th:only-of-type {\n",
       "        vertical-align: middle;\n",
       "    }\n",
       "\n",
       "    .dataframe tbody tr th {\n",
       "        vertical-align: top;\n",
       "    }\n",
       "\n",
       "    .dataframe thead th {\n",
       "        text-align: right;\n",
       "    }\n",
       "</style>\n",
       "<table border=\"1\" class=\"dataframe\">\n",
       "  <thead>\n",
       "    <tr style=\"text-align: right;\">\n",
       "      <th></th>\n",
       "      <th>loss</th>\n",
       "      <th>accuracy</th>\n",
       "      <th>val_loss</th>\n",
       "      <th>val_accuracy</th>\n",
       "      <th>epoch</th>\n",
       "    </tr>\n",
       "  </thead>\n",
       "  <tbody>\n",
       "    <tr>\n",
       "      <th>25</th>\n",
       "      <td>0.034430</td>\n",
       "      <td>0.994203</td>\n",
       "      <td>0.044692</td>\n",
       "      <td>0.994118</td>\n",
       "      <td>25</td>\n",
       "    </tr>\n",
       "    <tr>\n",
       "      <th>26</th>\n",
       "      <td>0.038753</td>\n",
       "      <td>0.988406</td>\n",
       "      <td>0.046435</td>\n",
       "      <td>0.988235</td>\n",
       "      <td>26</td>\n",
       "    </tr>\n",
       "    <tr>\n",
       "      <th>27</th>\n",
       "      <td>0.033517</td>\n",
       "      <td>0.991304</td>\n",
       "      <td>0.042255</td>\n",
       "      <td>0.994118</td>\n",
       "      <td>27</td>\n",
       "    </tr>\n",
       "    <tr>\n",
       "      <th>28</th>\n",
       "      <td>0.053127</td>\n",
       "      <td>0.982609</td>\n",
       "      <td>0.048199</td>\n",
       "      <td>0.976471</td>\n",
       "      <td>28</td>\n",
       "    </tr>\n",
       "    <tr>\n",
       "      <th>29</th>\n",
       "      <td>0.053783</td>\n",
       "      <td>0.982609</td>\n",
       "      <td>0.207558</td>\n",
       "      <td>0.923529</td>\n",
       "      <td>29</td>\n",
       "    </tr>\n",
       "  </tbody>\n",
       "</table>\n",
       "</div>"
      ],
      "text/plain": [
       "        loss  accuracy  val_loss  val_accuracy  epoch\n",
       "25  0.034430  0.994203  0.044692      0.994118     25\n",
       "26  0.038753  0.988406  0.046435      0.988235     26\n",
       "27  0.033517  0.991304  0.042255      0.994118     27\n",
       "28  0.053127  0.982609  0.048199      0.976471     28\n",
       "29  0.053783  0.982609  0.207558      0.923529     29"
      ]
     },
     "execution_count": 22,
     "metadata": {},
     "output_type": "execute_result"
    }
   ],
   "source": [
    "hist1_df = pd.DataFrame(hist1.history)\n",
    "hist1_df[\"epoch\"]=hist1.epoch\n",
    "hist1_df.tail()"
   ]
  },
  {
   "cell_type": "markdown",
   "metadata": {
    "id": "nzkouulPA5Pm"
   },
   "source": [
    "#### Visualize Training History"
   ]
  },
  {
   "cell_type": "code",
   "execution_count": 23,
   "metadata": {
    "colab": {
     "base_uri": "https://localhost:8080/",
     "height": 0
    },
    "id": "J0JajQ4vA5Pm",
    "outputId": "fe10264a-0ffb-4a58-f24b-351967cab700"
   },
   "outputs": [
    {
     "data": {
      "image/png": "[encoded data removed]",
      "text/plain": [
       "<Figure size 432x288 with 1 Axes>"
      ]
     },
     "metadata": {
      "needs_background": "light"
     },
     "output_type": "display_data"
    }
   ],
   "source": [
    "# summarize history for accuracy\n",
    "plt.plot(hist1.history['accuracy'])\n",
    "plt.plot(hist1.history['val_accuracy'])\n",
    "plt.title('model1 accuracy')\n",
    "plt.ylabel('accuracy')\n",
    "plt.xlabel('epoch')\n",
    "plt.legend(['train', 'test'], loc='upper left')\n",
    "plt.show()"
   ]
  },
  {
   "cell_type": "code",
   "execution_count": 24,
   "metadata": {
    "colab": {
     "base_uri": "https://localhost:8080/",
     "height": 0
    },
    "id": "alhGSX22A5Pn",
    "outputId": "e79bdce4-94e6-4ee6-cce9-d70b6089e296"
   },
   "outputs": [
    {
     "data": {
      "image/png": "[encoded data removed]",
      "text/plain": [
       "<Figure size 432x288 with 1 Axes>"
      ]
     },
     "metadata": {
      "needs_background": "light"
     },
     "output_type": "display_data"
    }
   ],
   "source": [
    "# summarize history for loss\n",
    "plt.plot(hist1.history['loss'])\n",
    "plt.plot(hist1.history['val_loss'])\n",
    "plt.title('model loss')\n",
    "plt.ylabel('loss')\n",
    "plt.xlabel('epoch')\n",
    "plt.legend(['train', 'test'], loc='upper left')\n",
    "plt.show() #Loss decreases and starts oscillating after 25\n"
   ]
  },
  {
   "cell_type": "markdown",
   "metadata": {
    "id": "xDh4_Mo5A5Pn"
   },
   "source": [
    "## Tuning HyperParameters"
   ]
  },
  {
   "cell_type": "markdown",
   "metadata": {
    "id": "-vjbuKkxA5Pn"
   },
   "source": [
    "#### Standardizing X values"
   ]
  },
  {
   "cell_type": "code",
   "execution_count": 25,
   "metadata": {
    "id": "MXoEt_HwA5Po"
   },
   "outputs": [],
   "source": [
    "from sklearn.preprocessing import StandardScaler\n",
    "a = StandardScaler()\n",
    "a.fit(X)\n",
    "X_standardized = a.transform(X)"
   ]
  },
  {
   "cell_type": "code",
   "execution_count": 26,
   "metadata": {
    "id": "VPS5VM1RA5Po"
   },
   "outputs": [],
   "source": [
    "# Importing the necessary packages\n",
    "from sklearn.model_selection import GridSearchCV, KFold\n",
    "from keras.wrappers.scikit_learn import KerasClassifier\n",
    "from tensorflow.keras.optimizers import Adam"
   ]
  },
  {
   "cell_type": "markdown",
   "metadata": {
    "id": "oYK6HiS-A5Pp"
   },
   "source": [
    "#### Tuning set 1 : Batch Size and Epochs"
   ]
  },
  {
   "cell_type": "code",
   "execution_count": 27,
   "metadata": {
    "id": "vkEdoMi5A5Pp"
   },
   "outputs": [],
   "source": [
    "# create model function\n",
    "def create_model():\n",
    "    model = Sequential()\n",
    "    model.add(Dense(14, input_dim=11, kernel_initializer='uniform', activation='relu'))\n",
    "    model.add(Dense(12, kernel_initializer='uniform', activation='relu'))\n",
    "    model.add(Dense(1, kernel_initializer='uniform', activation='sigmoid'))\n",
    "    \n",
    "    adam=Adam(lr=0.01) #learning rate = 0.01\n",
    "    model.compile(loss='binary_crossentropy', optimizer=adam, metrics=['accuracy'])\n",
    "    return model"
   ]
  },
  {
   "cell_type": "code",
   "execution_count": 28,
   "metadata": {
    "colab": {
     "base_uri": "https://localhost:8080/"
    },
    "id": "Yl2kJ4DNA5Pp",
    "outputId": "5f81b013-6e55-4692-c80c-a11239572103",
    "scrolled": true
   },
   "outputs": [
    {
     "name": "stdout",
     "output_type": "stream",
     "text": [
      "Fitting 5 folds for each of 12 candidates, totalling 60 fits\n",
      "[CV 1/5; 1/12] START batch_size=10, epochs=10...................................\n",
      "[CV 1/5; 1/12] END ....batch_size=10, epochs=10;, score=1.000 total time=   2.0s\n",
      "[CV 2/5; 1/12] START batch_size=10, epochs=10...................................\n",
      "[CV 2/5; 1/12] END ....batch_size=10, epochs=10;, score=0.980 total time=   1.9s\n",
      "[CV 3/5; 1/12] START batch_size=10, epochs=10...................................\n",
      "[CV 3/5; 1/12] END ....batch_size=10, epochs=10;, score=0.898 total time=   1.9s\n",
      "[CV 4/5; 1/12] START batch_size=10, epochs=10...................................\n",
      "[CV 4/5; 1/12] END ....batch_size=10, epochs=10;, score=0.918 total time=   2.0s\n",
      "[CV 5/5; 1/12] START batch_size=10, epochs=10...................................\n",
      "[CV 5/5; 1/12] END ....batch_size=10, epochs=10;, score=0.973 total time=   2.0s\n",
      "[CV 1/5; 2/12] START batch_size=10, epochs=25...................................\n",
      "[CV 1/5; 2/12] END ....batch_size=10, epochs=25;, score=1.000 total time=   3.6s\n",
      "[CV 2/5; 2/12] START batch_size=10, epochs=25...................................\n",
      "[CV 2/5; 2/12] END ....batch_size=10, epochs=25;, score=0.973 total time=   3.5s\n",
      "[CV 3/5; 2/12] START batch_size=10, epochs=25...................................\n",
      "[CV 3/5; 2/12] END ....batch_size=10, epochs=25;, score=0.925 total time=   3.5s\n",
      "[CV 4/5; 2/12] START batch_size=10, epochs=25...................................\n",
      "[CV 4/5; 2/12] END ....batch_size=10, epochs=25;, score=0.905 total time=   3.5s\n",
      "[CV 5/5; 2/12] START batch_size=10, epochs=25...................................\n",
      "[CV 5/5; 2/12] END ....batch_size=10, epochs=25;, score=0.966 total time=   3.5s\n",
      "[CV 1/5; 3/12] START batch_size=10, epochs=50...................................\n",
      "[CV 1/5; 3/12] END ....batch_size=10, epochs=50;, score=0.993 total time=   6.5s\n",
      "[CV 2/5; 3/12] START batch_size=10, epochs=50...................................\n",
      "[CV 2/5; 3/12] END ....batch_size=10, epochs=50;, score=0.980 total time=   7.0s\n",
      "[CV 3/5; 3/12] START batch_size=10, epochs=50...................................\n",
      "[CV 3/5; 3/12] END ....batch_size=10, epochs=50;, score=0.966 total time=   7.1s\n",
      "[CV 4/5; 3/12] START batch_size=10, epochs=50...................................\n",
      "[CV 4/5; 3/12] END ....batch_size=10, epochs=50;, score=0.973 total time=   7.6s\n",
      "[CV 5/5; 3/12] START batch_size=10, epochs=50...................................\n",
      "[CV 5/5; 3/12] END ....batch_size=10, epochs=50;, score=0.952 total time=   6.9s\n",
      "[CV 1/5; 4/12] START batch_size=10, epochs=100..................................\n",
      "[CV 1/5; 4/12] END ...batch_size=10, epochs=100;, score=0.993 total time=  11.9s\n",
      "[CV 2/5; 4/12] START batch_size=10, epochs=100..................................\n",
      "[CV 2/5; 4/12] END ...batch_size=10, epochs=100;, score=0.973 total time=  11.1s\n",
      "[CV 3/5; 4/12] START batch_size=10, epochs=100..................................\n",
      "[CV 3/5; 4/12] END ...batch_size=10, epochs=100;, score=0.939 total time=  11.3s\n",
      "[CV 4/5; 4/12] START batch_size=10, epochs=100..................................\n",
      "[CV 4/5; 4/12] END ...batch_size=10, epochs=100;, score=0.939 total time=  11.2s\n",
      "[CV 5/5; 4/12] START batch_size=10, epochs=100..................................\n",
      "[CV 5/5; 4/12] END ...batch_size=10, epochs=100;, score=1.000 total time=  11.3s\n",
      "[CV 1/5; 5/12] START batch_size=20, epochs=10...................................\n",
      "[CV 1/5; 5/12] END ....batch_size=20, epochs=10;, score=0.959 total time=   1.5s\n",
      "[CV 2/5; 5/12] START batch_size=20, epochs=10...................................\n",
      "[CV 2/5; 5/12] END ....batch_size=20, epochs=10;, score=0.980 total time=   1.4s\n",
      "[CV 3/5; 5/12] START batch_size=20, epochs=10...................................\n",
      "[CV 3/5; 5/12] END ....batch_size=20, epochs=10;, score=0.918 total time=   1.8s\n",
      "[CV 4/5; 5/12] START batch_size=20, epochs=10...................................\n",
      "[CV 4/5; 5/12] END ....batch_size=20, epochs=10;, score=0.939 total time=   1.4s\n",
      "[CV 5/5; 5/12] START batch_size=20, epochs=10...................................\n",
      "[CV 5/5; 5/12] END ....batch_size=20, epochs=10;, score=0.980 total time=   1.4s\n",
      "[CV 1/5; 6/12] START batch_size=20, epochs=25...................................\n",
      "[CV 1/5; 6/12] END ....batch_size=20, epochs=25;, score=1.000 total time=   2.3s\n",
      "[CV 2/5; 6/12] START batch_size=20, epochs=25...................................\n",
      "[CV 2/5; 6/12] END ....batch_size=20, epochs=25;, score=0.993 total time=   2.6s\n",
      "[CV 3/5; 6/12] START batch_size=20, epochs=25...................................\n",
      "[CV 3/5; 6/12] END ....batch_size=20, epochs=25;, score=0.912 total time=   2.9s\n",
      "[CV 4/5; 6/12] START batch_size=20, epochs=25...................................\n",
      "[CV 4/5; 6/12] END ....batch_size=20, epochs=25;, score=0.980 total time=   2.7s\n",
      "[CV 5/5; 6/12] START batch_size=20, epochs=25...................................\n",
      "[CV 5/5; 6/12] END ....batch_size=20, epochs=25;, score=0.959 total time=   2.4s\n",
      "[CV 1/5; 7/12] START batch_size=20, epochs=50...................................\n",
      "[CV 1/5; 7/12] END ....batch_size=20, epochs=50;, score=0.980 total time=   4.6s\n",
      "[CV 2/5; 7/12] START batch_size=20, epochs=50...................................\n",
      "[CV 2/5; 7/12] END ....batch_size=20, epochs=50;, score=0.973 total time=   5.4s\n",
      "[CV 3/5; 7/12] START batch_size=20, epochs=50...................................\n",
      "[CV 3/5; 7/12] END ....batch_size=20, epochs=50;, score=0.959 total time=   4.1s\n",
      "[CV 4/5; 7/12] START batch_size=20, epochs=50...................................\n",
      "[CV 4/5; 7/12] END ....batch_size=20, epochs=50;, score=0.959 total time=   3.8s\n",
      "[CV 5/5; 7/12] START batch_size=20, epochs=50...................................\n",
      "[CV 5/5; 7/12] END ....batch_size=20, epochs=50;, score=0.993 total time=   3.7s\n",
      "[CV 1/5; 8/12] START batch_size=20, epochs=100..................................\n",
      "[CV 1/5; 8/12] END ...batch_size=20, epochs=100;, score=0.993 total time=   7.8s\n",
      "[CV 2/5; 8/12] START batch_size=20, epochs=100..................................\n",
      "[CV 2/5; 8/12] END ...batch_size=20, epochs=100;, score=0.980 total time=   8.5s\n",
      "[CV 3/5; 8/12] START batch_size=20, epochs=100..................................\n",
      "[CV 3/5; 8/12] END ...batch_size=20, epochs=100;, score=0.952 total time=   8.5s\n",
      "[CV 4/5; 8/12] START batch_size=20, epochs=100..................................\n",
      "[CV 4/5; 8/12] END ...batch_size=20, epochs=100;, score=0.959 total time=   7.9s\n",
      "[CV 5/5; 8/12] START batch_size=20, epochs=100..................................\n",
      "[CV 5/5; 8/12] END ...batch_size=20, epochs=100;, score=1.000 total time=   8.7s\n",
      "[CV 1/5; 9/12] START batch_size=40, epochs=10...................................\n",
      "[CV 1/5; 9/12] END ....batch_size=40, epochs=10;, score=0.993 total time=   2.7s\n",
      "[CV 2/5; 9/12] START batch_size=40, epochs=10...................................\n",
      "[CV 2/5; 9/12] END ....batch_size=40, epochs=10;, score=0.959 total time=   2.8s\n",
      "[CV 3/5; 9/12] START batch_size=40, epochs=10...................................\n",
      "[CV 3/5; 9/12] END ....batch_size=40, epochs=10;, score=0.850 total time=   2.7s\n",
      "[CV 4/5; 9/12] START batch_size=40, epochs=10...................................\n",
      "[CV 4/5; 9/12] END ....batch_size=40, epochs=10;, score=0.912 total time=   2.7s\n",
      "[CV 5/5; 9/12] START batch_size=40, epochs=10...................................\n",
      "[CV 5/5; 9/12] END ....batch_size=40, epochs=10;, score=0.959 total time=   2.8s\n",
      "[CV 1/5; 10/12] START batch_size=40, epochs=25..................................\n",
      "[CV 1/5; 10/12] END ...batch_size=40, epochs=25;, score=0.993 total time=   3.5s\n",
      "[CV 2/5; 10/12] START batch_size=40, epochs=25..................................\n",
      "[CV 2/5; 10/12] END ...batch_size=40, epochs=25;, score=0.966 total time=   4.0s\n",
      "[CV 3/5; 10/12] START batch_size=40, epochs=25..................................\n",
      "[CV 3/5; 10/12] END ...batch_size=40, epochs=25;, score=0.932 total time=   3.4s\n",
      "[CV 4/5; 10/12] START batch_size=40, epochs=25..................................\n",
      "[CV 4/5; 10/12] END ...batch_size=40, epochs=25;, score=0.946 total time=   3.8s\n",
      "[CV 5/5; 10/12] START batch_size=40, epochs=25..................................\n",
      "[CV 5/5; 10/12] END ...batch_size=40, epochs=25;, score=0.986 total time=   4.3s\n",
      "[CV 1/5; 11/12] START batch_size=40, epochs=50..................................\n"
     ]
    },
    {
     "name": "stdout",
     "output_type": "stream",
     "text": [
      "[CV 1/5; 11/12] END ...batch_size=40, epochs=50;, score=0.993 total time=   6.3s\n",
      "[CV 2/5; 11/12] START batch_size=40, epochs=50..................................\n",
      "[CV 2/5; 11/12] END ...batch_size=40, epochs=50;, score=0.966 total time=   3.2s\n",
      "[CV 3/5; 11/12] START batch_size=40, epochs=50..................................\n",
      "[CV 3/5; 11/12] END ...batch_size=40, epochs=50;, score=0.925 total time=   2.4s\n",
      "[CV 4/5; 11/12] START batch_size=40, epochs=50..................................\n",
      "[CV 4/5; 11/12] END ...batch_size=40, epochs=50;, score=0.959 total time=   2.5s\n",
      "[CV 5/5; 11/12] START batch_size=40, epochs=50..................................\n",
      "[CV 5/5; 11/12] END ...batch_size=40, epochs=50;, score=0.986 total time=   2.6s\n",
      "[CV 1/5; 12/12] START batch_size=40, epochs=100.................................\n",
      "[CV 1/5; 12/12] END ..batch_size=40, epochs=100;, score=0.993 total time=   4.3s\n",
      "[CV 2/5; 12/12] START batch_size=40, epochs=100.................................\n",
      "[CV 2/5; 12/12] END ..batch_size=40, epochs=100;, score=0.966 total time=   3.8s\n",
      "[CV 3/5; 12/12] START batch_size=40, epochs=100.................................\n",
      "[CV 3/5; 12/12] END ..batch_size=40, epochs=100;, score=0.932 total time=   3.6s\n",
      "[CV 4/5; 12/12] START batch_size=40, epochs=100.................................\n",
      "[CV 4/5; 12/12] END ..batch_size=40, epochs=100;, score=0.980 total time=   3.9s\n",
      "[CV 5/5; 12/12] START batch_size=40, epochs=100.................................\n",
      "[CV 5/5; 12/12] END ..batch_size=40, epochs=100;, score=1.000 total time=   3.9s\n"
     ]
    }
   ],
   "source": [
    "# Create the model\n",
    "model = KerasClassifier(build_fn = create_model,verbose = 0)\n",
    "# Define the grid search parameters\n",
    "batch_size = [10,20,40]\n",
    "epochs = [10,25,50,100]\n",
    "# Make a dictionary of the grid search parameters\n",
    "param_grid = dict(batch_size = batch_size,epochs = epochs)\n",
    "# Build and fit the GridSearchCV\n",
    "grid = GridSearchCV(estimator = model,param_grid = param_grid,cv = KFold(),verbose = 10)\n",
    "grid_result = grid.fit(X_standardized,Y)"
   ]
  },
  {
   "cell_type": "code",
   "execution_count": 29,
   "metadata": {
    "colab": {
     "base_uri": "https://localhost:8080/"
    },
    "id": "lLwXtMGBA5Pp",
    "outputId": "52376ddd-f03a-48fc-bd19-b22b7faf38a5",
    "scrolled": true
   },
   "outputs": [
    {
     "name": "stdout",
     "output_type": "stream",
     "text": [
      "Best : 0.9768799424171448, using {'batch_size': 20, 'epochs': 100}\n",
      "0.9537414908409119,0.03881726635876104 with: {'batch_size': 10, 'epochs': 10}\n",
      "0.9537414908409119,0.034257624665302654 with: {'batch_size': 10, 'epochs': 25}\n",
      "0.9727982997894287,0.013619231640560902 with: {'batch_size': 10, 'epochs': 50}\n",
      "0.9687166810035706,0.026037379389749173 with: {'batch_size': 10, 'epochs': 100}\n",
      "0.955157208442688,0.02380952395209207 with: {'batch_size': 20, 'epochs': 10}\n",
      "0.9687074899673462,0.03179133979429237 with: {'batch_size': 20, 'epochs': 25}\n",
      "0.9728166937828064,0.012921885147953175 with: {'batch_size': 20, 'epochs': 50}\n",
      "0.9768799424171448,0.018563436514617705 with: {'batch_size': 20, 'epochs': 100}\n",
      "0.9347030758857727,0.04955409815892937 with: {'batch_size': 40, 'epochs': 10}\n",
      "0.9646350383758545,0.023339734239219794 with: {'batch_size': 40, 'epochs': 25}\n",
      "0.9659955859184265,0.023965298947593566 with: {'batch_size': 40, 'epochs': 50}\n",
      "0.9741588473320008,0.024116167400065013 with: {'batch_size': 40, 'epochs': 100}\n"
     ]
    }
   ],
   "source": [
    "# Summarize the results\n",
    "print('Best : {}, using {}'.format(grid_result.best_score_,grid_result.best_params_))\n",
    "means = grid_result.cv_results_['mean_test_score']\n",
    "stds = grid_result.cv_results_['std_test_score']\n",
    "params = grid_result.cv_results_['params']\n",
    "for mean, stdev, param in zip(means, stds, params):\n",
    "  print('{},{} with: {}'.format(mean, stdev, param))\n",
    "#According to this, the best batch size is 20 and epochs is 50"
   ]
  },
  {
   "cell_type": "markdown",
   "metadata": {
    "id": "Z0WoLlC-A5Pq"
   },
   "source": [
    "#### Tuning set 2 : Learning Rate and Dropout Rate"
   ]
  },
  {
   "cell_type": "code",
   "execution_count": 30,
   "metadata": {
    "colab": {
     "base_uri": "https://localhost:8080/"
    },
    "id": "puMjC3FkA5Pq",
    "outputId": "0a8e0633-29b3-43b0-e70e-8c67bc86725f",
    "scrolled": true
   },
   "outputs": [
    {
     "name": "stdout",
     "output_type": "stream",
     "text": [
      "Fitting 5 folds for each of 9 candidates, totalling 45 fits\n",
      "[CV 1/5; 1/9] START dropout_rate=0.0, learning_rate=0.001.......................\n",
      "[CV 1/5; 1/9] END dropout_rate=0.0, learning_rate=0.001;, score=0.993 total time=   3.7s\n",
      "[CV 2/5; 1/9] START dropout_rate=0.0, learning_rate=0.001.......................\n",
      "[CV 2/5; 1/9] END dropout_rate=0.0, learning_rate=0.001;, score=0.986 total time=   3.7s\n",
      "[CV 3/5; 1/9] START dropout_rate=0.0, learning_rate=0.001.......................\n",
      "[CV 3/5; 1/9] END dropout_rate=0.0, learning_rate=0.001;, score=0.966 total time=   3.6s\n",
      "[CV 4/5; 1/9] START dropout_rate=0.0, learning_rate=0.001.......................\n",
      "[CV 4/5; 1/9] END dropout_rate=0.0, learning_rate=0.001;, score=0.959 total time=   3.7s\n",
      "[CV 5/5; 1/9] START dropout_rate=0.0, learning_rate=0.001.......................\n",
      "[CV 5/5; 1/9] END dropout_rate=0.0, learning_rate=0.001;, score=1.000 total time=   3.6s\n",
      "[CV 1/5; 2/9] START dropout_rate=0.0, learning_rate=0.01........................\n",
      "[CV 1/5; 2/9] END dropout_rate=0.0, learning_rate=0.01;, score=1.000 total time=   3.6s\n",
      "[CV 2/5; 2/9] START dropout_rate=0.0, learning_rate=0.01........................\n",
      "[CV 2/5; 2/9] END dropout_rate=0.0, learning_rate=0.01;, score=0.980 total time=   3.7s\n",
      "[CV 3/5; 2/9] START dropout_rate=0.0, learning_rate=0.01........................\n",
      "[CV 3/5; 2/9] END dropout_rate=0.0, learning_rate=0.01;, score=0.966 total time=   3.9s\n",
      "[CV 4/5; 2/9] START dropout_rate=0.0, learning_rate=0.01........................\n",
      "[CV 4/5; 2/9] END dropout_rate=0.0, learning_rate=0.01;, score=0.973 total time=   4.5s\n",
      "[CV 5/5; 2/9] START dropout_rate=0.0, learning_rate=0.01........................\n",
      "[CV 5/5; 2/9] END dropout_rate=0.0, learning_rate=0.01;, score=0.986 total time=   3.6s\n",
      "[CV 1/5; 3/9] START dropout_rate=0.0, learning_rate=0.1.........................\n",
      "[CV 1/5; 3/9] END dropout_rate=0.0, learning_rate=0.1;, score=1.000 total time=   3.6s\n",
      "[CV 2/5; 3/9] START dropout_rate=0.0, learning_rate=0.1.........................\n",
      "[CV 2/5; 3/9] END dropout_rate=0.0, learning_rate=0.1;, score=0.980 total time=   3.6s\n",
      "[CV 3/5; 3/9] START dropout_rate=0.0, learning_rate=0.1.........................\n",
      "[CV 3/5; 3/9] END dropout_rate=0.0, learning_rate=0.1;, score=0.973 total time=   3.5s\n",
      "[CV 4/5; 3/9] START dropout_rate=0.0, learning_rate=0.1.........................\n",
      "[CV 4/5; 3/9] END dropout_rate=0.0, learning_rate=0.1;, score=0.946 total time=   3.6s\n",
      "[CV 5/5; 3/9] START dropout_rate=0.0, learning_rate=0.1.........................\n",
      "[CV 5/5; 3/9] END dropout_rate=0.0, learning_rate=0.1;, score=0.993 total time=   3.6s\n",
      "[CV 1/5; 4/9] START dropout_rate=0.1, learning_rate=0.001.......................\n",
      "[CV 1/5; 4/9] END dropout_rate=0.1, learning_rate=0.001;, score=1.000 total time=   3.9s\n",
      "[CV 2/5; 4/9] START dropout_rate=0.1, learning_rate=0.001.......................\n",
      "[CV 2/5; 4/9] END dropout_rate=0.1, learning_rate=0.001;, score=0.993 total time=   3.7s\n",
      "[CV 3/5; 4/9] START dropout_rate=0.1, learning_rate=0.001.......................\n",
      "[CV 3/5; 4/9] END dropout_rate=0.1, learning_rate=0.001;, score=0.959 total time=   3.8s\n",
      "[CV 4/5; 4/9] START dropout_rate=0.1, learning_rate=0.001.......................\n",
      "[CV 4/5; 4/9] END dropout_rate=0.1, learning_rate=0.001;, score=0.959 total time=   3.9s\n",
      "[CV 5/5; 4/9] START dropout_rate=0.1, learning_rate=0.001.......................\n",
      "[CV 5/5; 4/9] END dropout_rate=0.1, learning_rate=0.001;, score=1.000 total time=   3.8s\n",
      "[CV 1/5; 5/9] START dropout_rate=0.1, learning_rate=0.01........................\n",
      "[CV 1/5; 5/9] END dropout_rate=0.1, learning_rate=0.01;, score=0.993 total time=   4.1s\n",
      "[CV 2/5; 5/9] START dropout_rate=0.1, learning_rate=0.01........................\n",
      "[CV 2/5; 5/9] END dropout_rate=0.1, learning_rate=0.01;, score=0.980 total time=   3.7s\n",
      "[CV 3/5; 5/9] START dropout_rate=0.1, learning_rate=0.01........................\n",
      "[CV 3/5; 5/9] END dropout_rate=0.1, learning_rate=0.01;, score=0.966 total time=   3.9s\n",
      "[CV 4/5; 5/9] START dropout_rate=0.1, learning_rate=0.01........................\n",
      "[CV 4/5; 5/9] END dropout_rate=0.1, learning_rate=0.01;, score=0.959 total time=   3.8s\n",
      "[CV 5/5; 5/9] START dropout_rate=0.1, learning_rate=0.01........................\n",
      "[CV 5/5; 5/9] END dropout_rate=0.1, learning_rate=0.01;, score=1.000 total time=   3.9s\n",
      "[CV 1/5; 6/9] START dropout_rate=0.1, learning_rate=0.1.........................\n",
      "[CV 1/5; 6/9] END dropout_rate=0.1, learning_rate=0.1;, score=0.993 total time=   5.1s\n",
      "[CV 2/5; 6/9] START dropout_rate=0.1, learning_rate=0.1.........................\n",
      "[CV 2/5; 6/9] END dropout_rate=0.1, learning_rate=0.1;, score=0.973 total time=   4.5s\n",
      "[CV 3/5; 6/9] START dropout_rate=0.1, learning_rate=0.1.........................\n",
      "[CV 3/5; 6/9] END dropout_rate=0.1, learning_rate=0.1;, score=0.878 total time=   5.3s\n",
      "[CV 4/5; 6/9] START dropout_rate=0.1, learning_rate=0.1.........................\n",
      "[CV 4/5; 6/9] END dropout_rate=0.1, learning_rate=0.1;, score=0.939 total time=   4.7s\n",
      "[CV 5/5; 6/9] START dropout_rate=0.1, learning_rate=0.1.........................\n",
      "[CV 5/5; 6/9] END dropout_rate=0.1, learning_rate=0.1;, score=0.980 total time=   4.8s\n",
      "[CV 1/5; 7/9] START dropout_rate=0.2, learning_rate=0.001.......................\n",
      "[CV 1/5; 7/9] END dropout_rate=0.2, learning_rate=0.001;, score=1.000 total time=   4.4s\n",
      "[CV 2/5; 7/9] START dropout_rate=0.2, learning_rate=0.001.......................\n",
      "[CV 2/5; 7/9] END dropout_rate=0.2, learning_rate=0.001;, score=1.000 total time=   4.4s\n",
      "[CV 3/5; 7/9] START dropout_rate=0.2, learning_rate=0.001.......................\n",
      "[CV 3/5; 7/9] END dropout_rate=0.2, learning_rate=0.001;, score=0.966 total time=   4.3s\n",
      "[CV 4/5; 7/9] START dropout_rate=0.2, learning_rate=0.001.......................\n",
      "[CV 4/5; 7/9] END dropout_rate=0.2, learning_rate=0.001;, score=0.952 total time=   4.6s\n",
      "[CV 5/5; 7/9] START dropout_rate=0.2, learning_rate=0.001.......................\n",
      "[CV 5/5; 7/9] END dropout_rate=0.2, learning_rate=0.001;, score=0.973 total time=   4.5s\n",
      "[CV 1/5; 8/9] START dropout_rate=0.2, learning_rate=0.01........................\n",
      "[CV 1/5; 8/9] END dropout_rate=0.2, learning_rate=0.01;, score=1.000 total time=   4.1s\n",
      "[CV 2/5; 8/9] START dropout_rate=0.2, learning_rate=0.01........................\n",
      "[CV 2/5; 8/9] END dropout_rate=0.2, learning_rate=0.01;, score=1.000 total time=   5.1s\n",
      "[CV 3/5; 8/9] START dropout_rate=0.2, learning_rate=0.01........................\n",
      "[CV 3/5; 8/9] END dropout_rate=0.2, learning_rate=0.01;, score=0.939 total time=   5.9s\n",
      "[CV 4/5; 8/9] START dropout_rate=0.2, learning_rate=0.01........................\n",
      "[CV 4/5; 8/9] END dropout_rate=0.2, learning_rate=0.01;, score=0.952 total time=   4.1s\n",
      "[CV 5/5; 8/9] START dropout_rate=0.2, learning_rate=0.01........................\n",
      "[CV 5/5; 8/9] END dropout_rate=0.2, learning_rate=0.01;, score=1.000 total time=   3.9s\n",
      "[CV 1/5; 9/9] START dropout_rate=0.2, learning_rate=0.1.........................\n",
      "[CV 1/5; 9/9] END dropout_rate=0.2, learning_rate=0.1;, score=1.000 total time=   4.1s\n",
      "[CV 2/5; 9/9] START dropout_rate=0.2, learning_rate=0.1.........................\n",
      "[CV 2/5; 9/9] END dropout_rate=0.2, learning_rate=0.1;, score=0.932 total time=   4.0s\n",
      "[CV 3/5; 9/9] START dropout_rate=0.2, learning_rate=0.1.........................\n",
      "[CV 3/5; 9/9] END dropout_rate=0.2, learning_rate=0.1;, score=0.952 total time=   4.3s\n",
      "[CV 4/5; 9/9] START dropout_rate=0.2, learning_rate=0.1.........................\n",
      "[CV 4/5; 9/9] END dropout_rate=0.2, learning_rate=0.1;, score=0.946 total time=   5.9s\n",
      "[CV 5/5; 9/9] START dropout_rate=0.2, learning_rate=0.1.........................\n",
      "[CV 5/5; 9/9] END dropout_rate=0.2, learning_rate=0.1;, score=0.980 total time=   5.2s\n"
     ]
    }
   ],
   "source": [
    "from keras.layers import Dropout\n",
    "\n",
    "# Defining the model\n",
    "\n",
    "def create_model2(learning_rate,dropout_rate):\n",
    "    model = Sequential()\n",
    "    model.add(Dense(14,input_dim = 11,kernel_initializer = 'uniform',activation = 'relu'))\n",
    "    model.add(Dropout(dropout_rate))\n",
    "    model.add(Dense(12,input_dim = 14,kernel_initializer = 'uniform',activation = 'relu'))\n",
    "    model.add(Dropout(dropout_rate))\n",
    "    model.add(Dense(1,kernel_initializer='uniform',activation = 'sigmoid'))\n",
    "    \n",
    "    adam = Adam(lr = learning_rate)\n",
    "    model.compile(loss = 'binary_crossentropy',optimizer = adam,metrics = ['accuracy'])\n",
    "    return model\n",
    "\n",
    "# Create the model\n",
    "\n",
    "model2 = KerasClassifier(build_fn = create_model2,verbose = 0,batch_size = 20,epochs = 50)\n",
    "\n",
    "# Define the grid search parameters\n",
    "\n",
    "learning_rate = [0.001,0.01,0.1]\n",
    "dropout_rate = [0.0,0.1,0.2]\n",
    "\n",
    "# Make a dictionary of the grid search parameters\n",
    "\n",
    "param_grids2 = dict(learning_rate = learning_rate,dropout_rate = dropout_rate)\n",
    "\n",
    "# Build and fit the GridSearchCV\n",
    "\n",
    "grid2 = GridSearchCV(estimator = model2,param_grid = param_grids2,cv = KFold(),verbose = 10)\n",
    "grid_result2 = grid2.fit(X_standardized,Y)\n"
   ]
  },
  {
   "cell_type": "code",
   "execution_count": 31,
   "metadata": {
    "colab": {
     "base_uri": "https://localhost:8080/"
    },
    "id": "VGf9vgSvA5Pr",
    "outputId": "a0f84660-9da3-468d-e42a-ee60601da0ad"
   },
   "outputs": [
    {
     "name": "stdout",
     "output_type": "stream",
     "text": [
      "Best : 0.9823129296302795, using {'dropout_rate': 0.1, 'learning_rate': 0.001}\n",
      "0.9809615731239318,0.015756591242603753 with: {'dropout_rate': 0.0, 'learning_rate': 0.001}\n",
      "0.9809523820877075,0.01170385310157046 with: {'dropout_rate': 0.0, 'learning_rate': 0.01}\n",
      "0.9782312870025635,0.0189501907930002 with: {'dropout_rate': 0.0, 'learning_rate': 0.1}\n",
      "0.9823129296302795,0.0190476076943549 with: {'dropout_rate': 0.1, 'learning_rate': 0.001}\n",
      "0.9796010255813599,0.015520656763475525 with: {'dropout_rate': 0.1, 'learning_rate': 0.01}\n",
      "0.9523901462554931,0.04150006277678986 with: {'dropout_rate': 0.1, 'learning_rate': 0.1}\n",
      "0.9782312870025635,0.0189501907930002 with: {'dropout_rate': 0.2, 'learning_rate': 0.001}\n",
      "0.9782312989234925,0.027006022546905158 with: {'dropout_rate': 0.2, 'learning_rate': 0.01}\n",
      "0.961904764175415,0.02456526537272912 with: {'dropout_rate': 0.2, 'learning_rate': 0.1}\n"
     ]
    }
   ],
   "source": [
    "# Summarize the results\n",
    "print('Best : {}, using {}'.format(grid_result2.best_score_,grid_result2.best_params_))\n",
    "means2 = grid_result2.cv_results_['mean_test_score']\n",
    "stds2 = grid_result2.cv_results_['std_test_score']\n",
    "params2 = grid_result2.cv_results_['params']\n",
    "for mean, stdev, param in zip(means2, stds2, params2):\n",
    "  print('{},{} with: {}'.format(mean, stdev, param))\n",
    "#Best score for Dropout rate = 0.2 and learning rate is 0.001"
   ]
  },
  {
   "cell_type": "markdown",
   "metadata": {
    "id": "ky1aT_fcA5Pr"
   },
   "source": [
    "#### Tuning set 3 : Activation Function and Kernel Initializer"
   ]
  },
  {
   "cell_type": "code",
   "execution_count": 32,
   "metadata": {
    "colab": {
     "base_uri": "https://localhost:8080/"
    },
    "id": "kfdwAatUA5Pr",
    "outputId": "4e7cddaa-6a33-4913-d841-1249381cf5f1",
    "scrolled": true
   },
   "outputs": [
    {
     "name": "stdout",
     "output_type": "stream",
     "text": [
      "Fitting 5 folds for each of 12 candidates, totalling 60 fits\n",
      "[CV 1/5; 1/12] START activation_function=softmax, init=uniform..................\n",
      "[CV 1/5; 1/12] END activation_function=softmax, init=uniform;, score=0.101 total time=   5.8s\n",
      "[CV 2/5; 1/12] START activation_function=softmax, init=uniform..................\n",
      "[CV 2/5; 1/12] END activation_function=softmax, init=uniform;, score=0.803 total time=   5.0s\n",
      "[CV 3/5; 1/12] START activation_function=softmax, init=uniform..................\n",
      "[CV 3/5; 1/12] END activation_function=softmax, init=uniform;, score=0.476 total time=   5.5s\n",
      "[CV 4/5; 1/12] START activation_function=softmax, init=uniform..................\n",
      "[CV 4/5; 1/12] END activation_function=softmax, init=uniform;, score=0.524 total time=   5.7s\n",
      "[CV 5/5; 1/12] START activation_function=softmax, init=uniform..................\n",
      "[CV 5/5; 1/12] END activation_function=softmax, init=uniform;, score=0.122 total time=   4.2s\n",
      "[CV 1/5; 2/12] START activation_function=softmax, init=normal...................\n",
      "[CV 1/5; 2/12] END activation_function=softmax, init=normal;, score=0.068 total time=   5.3s\n",
      "[CV 2/5; 2/12] START activation_function=softmax, init=normal...................\n",
      "[CV 2/5; 2/12] END activation_function=softmax, init=normal;, score=0.789 total time=   6.4s\n",
      "[CV 3/5; 2/12] START activation_function=softmax, init=normal...................\n",
      "[CV 3/5; 2/12] END activation_function=softmax, init=normal;, score=0.476 total time=   5.1s\n",
      "[CV 4/5; 2/12] START activation_function=softmax, init=normal...................\n",
      "[CV 4/5; 2/12] END activation_function=softmax, init=normal;, score=0.524 total time=   4.4s\n",
      "[CV 5/5; 2/12] START activation_function=softmax, init=normal...................\n",
      "[CV 5/5; 2/12] END activation_function=softmax, init=normal;, score=0.163 total time=   4.7s\n",
      "[CV 1/5; 3/12] START activation_function=softmax, init=zero.....................\n",
      "[CV 1/5; 3/12] END activation_function=softmax, init=zero;, score=0.095 total time=   4.6s\n",
      "[CV 2/5; 3/12] START activation_function=softmax, init=zero.....................\n",
      "[CV 2/5; 3/12] END activation_function=softmax, init=zero;, score=0.796 total time=   4.6s\n",
      "[CV 3/5; 3/12] START activation_function=softmax, init=zero.....................\n",
      "[CV 3/5; 3/12] END activation_function=softmax, init=zero;, score=0.456 total time=   4.7s\n",
      "[CV 4/5; 3/12] START activation_function=softmax, init=zero.....................\n",
      "[CV 4/5; 3/12] END activation_function=softmax, init=zero;, score=0.531 total time=   5.4s\n",
      "[CV 5/5; 3/12] START activation_function=softmax, init=zero.....................\n",
      "[CV 5/5; 3/12] END activation_function=softmax, init=zero;, score=0.000 total time=   5.3s\n",
      "[CV 1/5; 4/12] START activation_function=relu, init=uniform.....................\n",
      "[CV 1/5; 4/12] END activation_function=relu, init=uniform;, score=1.000 total time=   5.3s\n",
      "[CV 2/5; 4/12] START activation_function=relu, init=uniform.....................\n",
      "[CV 2/5; 4/12] END activation_function=relu, init=uniform;, score=0.993 total time=   4.9s\n",
      "[CV 3/5; 4/12] START activation_function=relu, init=uniform.....................\n",
      "[CV 3/5; 4/12] END activation_function=relu, init=uniform;, score=0.952 total time=   5.4s\n",
      "[CV 4/5; 4/12] START activation_function=relu, init=uniform.....................\n",
      "[CV 4/5; 4/12] END activation_function=relu, init=uniform;, score=0.959 total time=   5.5s\n",
      "[CV 5/5; 4/12] START activation_function=relu, init=uniform.....................\n",
      "[CV 5/5; 4/12] END activation_function=relu, init=uniform;, score=1.000 total time=   4.4s\n",
      "[CV 1/5; 5/12] START activation_function=relu, init=normal......................\n",
      "[CV 1/5; 5/12] END activation_function=relu, init=normal;, score=1.000 total time=   4.3s\n",
      "[CV 2/5; 5/12] START activation_function=relu, init=normal......................\n",
      "[CV 2/5; 5/12] END activation_function=relu, init=normal;, score=1.000 total time=   4.4s\n",
      "[CV 3/5; 5/12] START activation_function=relu, init=normal......................\n",
      "[CV 3/5; 5/12] END activation_function=relu, init=normal;, score=0.959 total time=   4.4s\n",
      "[CV 4/5; 5/12] START activation_function=relu, init=normal......................\n",
      "[CV 4/5; 5/12] END activation_function=relu, init=normal;, score=0.952 total time=   4.4s\n",
      "[CV 5/5; 5/12] START activation_function=relu, init=normal......................\n",
      "[CV 5/5; 5/12] END activation_function=relu, init=normal;, score=0.993 total time=   4.9s\n",
      "[CV 1/5; 6/12] START activation_function=relu, init=zero........................\n",
      "[CV 1/5; 6/12] END activation_function=relu, init=zero;, score=0.000 total time=   6.0s\n",
      "[CV 2/5; 6/12] START activation_function=relu, init=zero........................\n",
      "[CV 2/5; 6/12] END activation_function=relu, init=zero;, score=0.490 total time=   5.9s\n",
      "[CV 3/5; 6/12] START activation_function=relu, init=zero........................\n",
      "[CV 3/5; 6/12] END activation_function=relu, init=zero;, score=0.265 total time=   6.2s\n",
      "[CV 4/5; 6/12] START activation_function=relu, init=zero........................\n",
      "[CV 4/5; 6/12] END activation_function=relu, init=zero;, score=0.252 total time=   6.2s\n",
      "[CV 5/5; 6/12] START activation_function=relu, init=zero........................\n",
      "[CV 5/5; 6/12] END activation_function=relu, init=zero;, score=0.000 total time=   6.1s\n",
      "[CV 1/5; 7/12] START activation_function=tanh, init=uniform.....................\n",
      "[CV 1/5; 7/12] END activation_function=tanh, init=uniform;, score=1.000 total time=   6.4s\n",
      "[CV 2/5; 7/12] START activation_function=tanh, init=uniform.....................\n",
      "[CV 2/5; 7/12] END activation_function=tanh, init=uniform;, score=0.993 total time=   6.2s\n",
      "[CV 3/5; 7/12] START activation_function=tanh, init=uniform.....................\n",
      "[CV 3/5; 7/12] END activation_function=tanh, init=uniform;, score=0.966 total time=   6.3s\n",
      "[CV 4/5; 7/12] START activation_function=tanh, init=uniform.....................\n",
      "[CV 4/5; 7/12] END activation_function=tanh, init=uniform;, score=0.952 total time=   6.5s\n",
      "[CV 5/5; 7/12] START activation_function=tanh, init=uniform.....................\n",
      "[CV 5/5; 7/12] END activation_function=tanh, init=uniform;, score=1.000 total time=   7.2s\n",
      "[CV 1/5; 8/12] START activation_function=tanh, init=normal......................\n",
      "[CV 1/5; 8/12] END activation_function=tanh, init=normal;, score=1.000 total time=   6.7s\n",
      "[CV 2/5; 8/12] START activation_function=tanh, init=normal......................\n",
      "[CV 2/5; 8/12] END activation_function=tanh, init=normal;, score=1.000 total time=   6.8s\n",
      "[CV 3/5; 8/12] START activation_function=tanh, init=normal......................\n",
      "[CV 3/5; 8/12] END activation_function=tanh, init=normal;, score=0.966 total time=   6.2s\n",
      "[CV 4/5; 8/12] START activation_function=tanh, init=normal......................\n",
      "[CV 4/5; 8/12] END activation_function=tanh, init=normal;, score=0.952 total time=   6.4s\n",
      "[CV 5/5; 8/12] START activation_function=tanh, init=normal......................\n",
      "[CV 5/5; 8/12] END activation_function=tanh, init=normal;, score=0.993 total time=   6.6s\n",
      "[CV 1/5; 9/12] START activation_function=tanh, init=zero........................\n",
      "[CV 1/5; 9/12] END activation_function=tanh, init=zero;, score=0.000 total time=   6.6s\n",
      "[CV 2/5; 9/12] START activation_function=tanh, init=zero........................\n",
      "[CV 2/5; 9/12] END activation_function=tanh, init=zero;, score=0.490 total time=   7.3s\n",
      "[CV 3/5; 9/12] START activation_function=tanh, init=zero........................\n",
      "[CV 3/5; 9/12] END activation_function=tanh, init=zero;, score=0.265 total time=   6.4s\n",
      "[CV 4/5; 9/12] START activation_function=tanh, init=zero........................\n",
      "[CV 4/5; 9/12] END activation_function=tanh, init=zero;, score=0.252 total time=   7.7s\n",
      "[CV 5/5; 9/12] START activation_function=tanh, init=zero........................\n",
      "[CV 5/5; 9/12] END activation_function=tanh, init=zero;, score=0.000 total time=   7.8s\n",
      "[CV 1/5; 10/12] START activation_function=linear, init=uniform..................\n",
      "[CV 1/5; 10/12] END activation_function=linear, init=uniform;, score=1.000 total time=   7.8s\n",
      "[CV 2/5; 10/12] START activation_function=linear, init=uniform..................\n",
      "[CV 2/5; 10/12] END activation_function=linear, init=uniform;, score=0.993 total time=   7.2s\n",
      "[CV 3/5; 10/12] START activation_function=linear, init=uniform..................\n"
     ]
    },
    {
     "name": "stdout",
     "output_type": "stream",
     "text": [
      "[CV 3/5; 10/12] END activation_function=linear, init=uniform;, score=0.959 total time=   6.7s\n",
      "[CV 4/5; 10/12] START activation_function=linear, init=uniform..................\n",
      "[CV 4/5; 10/12] END activation_function=linear, init=uniform;, score=0.959 total time=   7.3s\n",
      "[CV 5/5; 10/12] START activation_function=linear, init=uniform..................\n",
      "[CV 5/5; 10/12] END activation_function=linear, init=uniform;, score=1.000 total time=   7.8s\n",
      "[CV 1/5; 11/12] START activation_function=linear, init=normal...................\n",
      "[CV 1/5; 11/12] END activation_function=linear, init=normal;, score=1.000 total time=   7.2s\n",
      "[CV 2/5; 11/12] START activation_function=linear, init=normal...................\n",
      "[CV 2/5; 11/12] END activation_function=linear, init=normal;, score=0.993 total time=   6.8s\n",
      "[CV 3/5; 11/12] START activation_function=linear, init=normal...................\n",
      "[CV 3/5; 11/12] END activation_function=linear, init=normal;, score=0.959 total time=   6.5s\n",
      "[CV 4/5; 11/12] START activation_function=linear, init=normal...................\n",
      "[CV 4/5; 11/12] END activation_function=linear, init=normal;, score=0.952 total time=  12.9s\n",
      "[CV 5/5; 11/12] START activation_function=linear, init=normal...................\n",
      "[CV 5/5; 11/12] END activation_function=linear, init=normal;, score=0.993 total time=   6.1s\n",
      "[CV 1/5; 12/12] START activation_function=linear, init=zero.....................\n",
      "[CV 1/5; 12/12] END activation_function=linear, init=zero;, score=0.000 total time=   6.1s\n",
      "[CV 2/5; 12/12] START activation_function=linear, init=zero.....................\n",
      "[CV 2/5; 12/12] END activation_function=linear, init=zero;, score=0.490 total time=   5.9s\n",
      "[CV 3/5; 12/12] START activation_function=linear, init=zero.....................\n",
      "[CV 3/5; 12/12] END activation_function=linear, init=zero;, score=0.265 total time=   6.3s\n",
      "[CV 4/5; 12/12] START activation_function=linear, init=zero.....................\n",
      "[CV 4/5; 12/12] END activation_function=linear, init=zero;, score=0.252 total time=   6.0s\n",
      "[CV 5/5; 12/12] START activation_function=linear, init=zero.....................\n",
      "[CV 5/5; 12/12] END activation_function=linear, init=zero;, score=0.000 total time=   6.1s\n"
     ]
    }
   ],
   "source": [
    "# Defining the model\n",
    "\n",
    "def create_model3(activation_function,init):\n",
    "    model = Sequential()\n",
    "    model.add(Dense(14,input_dim = 11,kernel_initializer = init,activation = activation_function))\n",
    "    model.add(Dropout(0.2))\n",
    "    model.add(Dense(12,input_dim = 14,kernel_initializer = init,activation = activation_function))\n",
    "    model.add(Dropout(0.2))\n",
    "    model.add(Dense(1,activation = 'sigmoid'))\n",
    "    \n",
    "    adam = Adam(lr = 0.001)\n",
    "    model.compile(loss = 'binary_crossentropy',optimizer = adam,metrics = ['accuracy'])\n",
    "    return model\n",
    "\n",
    "# Create the model\n",
    "\n",
    "model3 = KerasClassifier(build_fn = create_model3,verbose = 0,batch_size = 20,epochs = 50)\n",
    "\n",
    "# Define the grid search parameters\n",
    "activation_function = ['softmax','relu','tanh','linear']\n",
    "init = ['uniform','normal','zero']\n",
    "\n",
    "# Make a dictionary of the grid search parameters\n",
    "param_grids3 = dict(activation_function = activation_function,init = init)\n",
    "\n",
    "# Build and fit the GridSearchCV\n",
    "\n",
    "grid3 = GridSearchCV(estimator = model3,param_grid = param_grids3,cv = KFold(),verbose = 10)\n",
    "grid_result3 = grid3.fit(X_standardized,Y)\n",
    "\n"
   ]
  },
  {
   "cell_type": "code",
   "execution_count": 33,
   "metadata": {
    "colab": {
     "base_uri": "https://localhost:8080/"
    },
    "id": "ApaGu6pGA5Ps",
    "outputId": "580a4d5c-357b-4ea8-8f16-8b383aee8f41"
   },
   "outputs": [
    {
     "name": "stdout",
     "output_type": "stream",
     "text": [
      "Best : 0.9823129296302795, using {'activation_function': 'linear', 'init': 'uniform'}\n",
      "0.4053042888641357,0.26434937926572416 with: {'activation_function': 'softmax', 'init': 'uniform'}\n",
      "0.40398971289396285,0.2603919540346259 with: {'activation_function': 'softmax', 'init': 'normal'}\n",
      "0.3753814995288849,0.2922891258682248 with: {'activation_function': 'softmax', 'init': 'zero'}\n",
      "0.9809523820877075,0.02081231773837104 with: {'activation_function': 'relu', 'init': 'uniform'}\n",
      "0.9809523820877075,0.02081231773837104 with: {'activation_function': 'relu', 'init': 'normal'}\n",
      "0.20136054158210753,0.18488389311191603 with: {'activation_function': 'relu', 'init': 'zero'}\n",
      "0.9823129177093506,0.019527484330775252 with: {'activation_function': 'tanh', 'init': 'uniform'}\n",
      "0.9823129177093506,0.019527484330775252 with: {'activation_function': 'tanh', 'init': 'normal'}\n",
      "0.20136054158210753,0.18488389311191603 with: {'activation_function': 'tanh', 'init': 'zero'}\n",
      "0.9823129296302795,0.0190476076943549 with: {'activation_function': 'linear', 'init': 'uniform'}\n",
      "0.9795918345451355,0.01971614943695823 with: {'activation_function': 'linear', 'init': 'normal'}\n",
      "0.20136054158210753,0.18488389311191603 with: {'activation_function': 'linear', 'init': 'zero'}\n"
     ]
    }
   ],
   "source": [
    "# Summarize the results\n",
    "print('Best : {}, using {}'.format(grid_result3.best_score_,grid_result3.best_params_))\n",
    "means3 = grid_result3.cv_results_['mean_test_score']\n",
    "stds3 = grid_result3.cv_results_['std_test_score']\n",
    "params3 = grid_result3.cv_results_['params']\n",
    "for mean, stdev, param in zip(means3, stds3, params3):\n",
    "  print('{},{} with: {}'.format(mean, stdev, param))\n",
    "#best activation function in our case would be Relu and Kernel Initializer is Uniform"
   ]
  },
  {
   "cell_type": "markdown",
   "metadata": {
    "id": "frKagp1HA5Ps"
   },
   "source": [
    "#### Tuning Set 4: Number of neurons in activation layer"
   ]
  },
  {
   "cell_type": "code",
   "execution_count": 34,
   "metadata": {
    "colab": {
     "base_uri": "https://localhost:8080/"
    },
    "id": "KR76VaDqA5Ps",
    "outputId": "1e2724b9-7ae2-4bc4-8421-85f0e0313b0d",
    "scrolled": true
   },
   "outputs": [
    {
     "name": "stdout",
     "output_type": "stream",
     "text": [
      "Fitting 5 folds for each of 9 candidates, totalling 45 fits\n",
      "[CV 1/5; 1/9] START neuron1=4, neuron2=4........................................\n",
      "[CV 1/5; 1/9] END .........neuron1=4, neuron2=4;, score=1.000 total time=   6.1s\n",
      "[CV 2/5; 1/9] START neuron1=4, neuron2=4........................................\n",
      "[CV 2/5; 1/9] END .........neuron1=4, neuron2=4;, score=0.986 total time=   5.9s\n",
      "[CV 3/5; 1/9] START neuron1=4, neuron2=4........................................\n",
      "[CV 3/5; 1/9] END .........neuron1=4, neuron2=4;, score=0.959 total time=   5.9s\n",
      "[CV 4/5; 1/9] START neuron1=4, neuron2=4........................................\n",
      "[CV 4/5; 1/9] END .........neuron1=4, neuron2=4;, score=0.946 total time=   6.4s\n",
      "[CV 5/5; 1/9] START neuron1=4, neuron2=4........................................\n",
      "[CV 5/5; 1/9] END .........neuron1=4, neuron2=4;, score=0.803 total time=   6.2s\n",
      "[CV 1/5; 2/9] START neuron1=4, neuron2=8........................................\n",
      "[CV 1/5; 2/9] END .........neuron1=4, neuron2=8;, score=1.000 total time=   6.0s\n",
      "[CV 2/5; 2/9] START neuron1=4, neuron2=8........................................\n",
      "[CV 2/5; 2/9] END .........neuron1=4, neuron2=8;, score=0.993 total time=   5.9s\n",
      "[CV 3/5; 2/9] START neuron1=4, neuron2=8........................................\n",
      "[CV 3/5; 2/9] END .........neuron1=4, neuron2=8;, score=0.952 total time=   5.7s\n",
      "[CV 4/5; 2/9] START neuron1=4, neuron2=8........................................\n",
      "[CV 4/5; 2/9] END .........neuron1=4, neuron2=8;, score=0.898 total time=   5.8s\n",
      "[CV 5/5; 2/9] START neuron1=4, neuron2=8........................................\n",
      "[CV 5/5; 2/9] END .........neuron1=4, neuron2=8;, score=0.905 total time=   7.1s\n",
      "[CV 1/5; 3/9] START neuron1=4, neuron2=12.......................................\n",
      "[CV 1/5; 3/9] END ........neuron1=4, neuron2=12;, score=1.000 total time=   7.1s\n",
      "[CV 2/5; 3/9] START neuron1=4, neuron2=12.......................................\n",
      "[CV 2/5; 3/9] END ........neuron1=4, neuron2=12;, score=0.986 total time=   6.4s\n",
      "[CV 3/5; 3/9] START neuron1=4, neuron2=12.......................................\n",
      "[CV 3/5; 3/9] END ........neuron1=4, neuron2=12;, score=0.952 total time=   8.4s\n",
      "[CV 4/5; 3/9] START neuron1=4, neuron2=12.......................................\n",
      "[CV 4/5; 3/9] END ........neuron1=4, neuron2=12;, score=0.952 total time=   7.8s\n",
      "[CV 5/5; 3/9] START neuron1=4, neuron2=12.......................................\n",
      "[CV 5/5; 3/9] END ........neuron1=4, neuron2=12;, score=0.986 total time=   6.6s\n",
      "[CV 1/5; 4/9] START neuron1=8, neuron2=4........................................\n",
      "[CV 1/5; 4/9] END .........neuron1=8, neuron2=4;, score=1.000 total time=   8.5s\n",
      "[CV 2/5; 4/9] START neuron1=8, neuron2=4........................................\n",
      "[CV 2/5; 4/9] END .........neuron1=8, neuron2=4;, score=0.993 total time=   7.7s\n",
      "[CV 3/5; 4/9] START neuron1=8, neuron2=4........................................\n",
      "[CV 3/5; 4/9] END .........neuron1=8, neuron2=4;, score=0.959 total time=   8.2s\n",
      "[CV 4/5; 4/9] START neuron1=8, neuron2=4........................................\n",
      "[CV 4/5; 4/9] END .........neuron1=8, neuron2=4;, score=0.952 total time=   8.0s\n",
      "[CV 5/5; 4/9] START neuron1=8, neuron2=4........................................\n",
      "[CV 5/5; 4/9] END .........neuron1=8, neuron2=4;, score=0.993 total time=   7.6s\n",
      "[CV 1/5; 5/9] START neuron1=8, neuron2=8........................................\n",
      "[CV 1/5; 5/9] END .........neuron1=8, neuron2=8;, score=1.000 total time=   6.7s\n",
      "[CV 2/5; 5/9] START neuron1=8, neuron2=8........................................\n",
      "[CV 2/5; 5/9] END .........neuron1=8, neuron2=8;, score=0.959 total time=   7.1s\n",
      "[CV 3/5; 5/9] START neuron1=8, neuron2=8........................................\n",
      "[CV 3/5; 5/9] END .........neuron1=8, neuron2=8;, score=0.966 total time=   7.2s\n",
      "[CV 4/5; 5/9] START neuron1=8, neuron2=8........................................\n",
      "[CV 4/5; 5/9] END .........neuron1=8, neuron2=8;, score=0.959 total time=   7.3s\n",
      "[CV 5/5; 5/9] START neuron1=8, neuron2=8........................................\n",
      "[CV 5/5; 5/9] END .........neuron1=8, neuron2=8;, score=0.993 total time=   7.0s\n",
      "[CV 1/5; 6/9] START neuron1=8, neuron2=12.......................................\n",
      "[CV 1/5; 6/9] END ........neuron1=8, neuron2=12;, score=1.000 total time=   6.1s\n",
      "[CV 2/5; 6/9] START neuron1=8, neuron2=12.......................................\n",
      "[CV 2/5; 6/9] END ........neuron1=8, neuron2=12;, score=1.000 total time=   7.2s\n",
      "[CV 3/5; 6/9] START neuron1=8, neuron2=12.......................................\n",
      "[CV 3/5; 6/9] END ........neuron1=8, neuron2=12;, score=0.952 total time=  10.8s\n",
      "[CV 4/5; 6/9] START neuron1=8, neuron2=12.......................................\n",
      "[CV 4/5; 6/9] END ........neuron1=8, neuron2=12;, score=0.952 total time=   9.9s\n",
      "[CV 5/5; 6/9] START neuron1=8, neuron2=12.......................................\n",
      "[CV 5/5; 6/9] END ........neuron1=8, neuron2=12;, score=0.993 total time=   8.5s\n",
      "[CV 1/5; 7/9] START neuron1=14, neuron2=4.......................................\n",
      "[CV 1/5; 7/9] END ........neuron1=14, neuron2=4;, score=1.000 total time=  11.2s\n",
      "[CV 2/5; 7/9] START neuron1=14, neuron2=4.......................................\n",
      "[CV 2/5; 7/9] END ........neuron1=14, neuron2=4;, score=0.993 total time=   7.5s\n",
      "[CV 3/5; 7/9] START neuron1=14, neuron2=4.......................................\n",
      "[CV 3/5; 7/9] END ........neuron1=14, neuron2=4;, score=0.966 total time=   9.1s\n",
      "[CV 4/5; 7/9] START neuron1=14, neuron2=4.......................................\n",
      "[CV 4/5; 7/9] END ........neuron1=14, neuron2=4;, score=0.966 total time=   7.7s\n",
      "[CV 5/5; 7/9] START neuron1=14, neuron2=4.......................................\n",
      "[CV 5/5; 7/9] END ........neuron1=14, neuron2=4;, score=0.980 total time=   7.1s\n",
      "[CV 1/5; 8/9] START neuron1=14, neuron2=8.......................................\n",
      "[CV 1/5; 8/9] END ........neuron1=14, neuron2=8;, score=1.000 total time=   7.7s\n",
      "[CV 2/5; 8/9] START neuron1=14, neuron2=8.......................................\n",
      "[CV 2/5; 8/9] END ........neuron1=14, neuron2=8;, score=0.993 total time=   7.0s\n",
      "[CV 3/5; 8/9] START neuron1=14, neuron2=8.......................................\n",
      "[CV 3/5; 8/9] END ........neuron1=14, neuron2=8;, score=0.959 total time=   5.7s\n",
      "[CV 4/5; 8/9] START neuron1=14, neuron2=8.......................................\n",
      "[CV 4/5; 8/9] END ........neuron1=14, neuron2=8;, score=0.952 total time=   4.9s\n",
      "[CV 5/5; 8/9] START neuron1=14, neuron2=8.......................................\n",
      "[CV 5/5; 8/9] END ........neuron1=14, neuron2=8;, score=1.000 total time=   5.5s\n",
      "[CV 1/5; 9/9] START neuron1=14, neuron2=12......................................\n",
      "[CV 1/5; 9/9] END .......neuron1=14, neuron2=12;, score=1.000 total time=   4.6s\n",
      "[CV 2/5; 9/9] START neuron1=14, neuron2=12......................................\n",
      "[CV 2/5; 9/9] END .......neuron1=14, neuron2=12;, score=1.000 total time=   4.7s\n",
      "[CV 3/5; 9/9] START neuron1=14, neuron2=12......................................\n",
      "[CV 3/5; 9/9] END .......neuron1=14, neuron2=12;, score=0.966 total time=   4.7s\n",
      "[CV 4/5; 9/9] START neuron1=14, neuron2=12......................................\n",
      "[CV 4/5; 9/9] END .......neuron1=14, neuron2=12;, score=0.952 total time=   4.7s\n",
      "[CV 5/5; 9/9] START neuron1=14, neuron2=12......................................\n",
      "[CV 5/5; 9/9] END .......neuron1=14, neuron2=12;, score=0.986 total time=   5.0s\n"
     ]
    }
   ],
   "source": [
    "# Defining the model\n",
    "\n",
    "def create_model4(neuron1,neuron2):\n",
    "    model = Sequential()\n",
    "    model.add(Dense(neuron1,input_dim = 11,kernel_initializer = 'uniform',activation = 'relu'))\n",
    "    model.add(Dropout(0.2))\n",
    "    model.add(Dense(neuron2,input_dim = neuron1,kernel_initializer = 'uniform',activation = 'relu'))\n",
    "    model.add(Dropout(0.2))\n",
    "    model.add(Dense(1,activation = 'sigmoid'))\n",
    "    \n",
    "    adam = Adam(lr = 0.001)\n",
    "    model.compile(loss = 'binary_crossentropy',optimizer = adam,metrics = ['accuracy'])\n",
    "    return model\n",
    "\n",
    "# Create the model\n",
    "\n",
    "model4 = KerasClassifier(build_fn = create_model4,verbose = 0,batch_size = 20,epochs = 50)\n",
    "\n",
    "# Define the grid search parameters\n",
    "\n",
    "neuron1 = [4,8,14]\n",
    "neuron2 = [4,8,12]\n",
    "\n",
    "# Make a dictionary of the grid search parameters\n",
    "\n",
    "param_grids4 = dict(neuron1 = neuron1,neuron2 = neuron2)\n",
    "\n",
    "# Build and fit the GridSearchCV\n",
    "\n",
    "grid4 = GridSearchCV(estimator = model4,param_grid = param_grids4,cv = KFold(),verbose = 10)\n",
    "grid_result4 = grid4.fit(X_standardized,Y)\n"
   ]
  },
  {
   "cell_type": "code",
   "execution_count": 35,
   "metadata": {
    "colab": {
     "base_uri": "https://localhost:8080/"
    },
    "id": "jQHcDgGgA5Pt",
    "outputId": "bd85930e-b086-43e2-c4f5-127b3747d5ed",
    "scrolled": false
   },
   "outputs": [
    {
     "name": "stdout",
     "output_type": "stream",
     "text": [
      "Best : 0.9809523820877075, using {'neuron1': 14, 'neuron2': 8}\n",
      "0.9387755155563354,0.07069595776710406 with: {'neuron1': 4, 'neuron2': 4}\n",
      "0.9496598601341247,0.042721953119643524 with: {'neuron1': 4, 'neuron2': 8}\n",
      "0.9755102157592773,0.01952748765305751 with: {'neuron1': 4, 'neuron2': 12}\n",
      "0.9795918345451355,0.01971614943695823 with: {'neuron1': 8, 'neuron2': 4}\n",
      "0.9755102038383484,0.01752937797251437 with: {'neuron1': 8, 'neuron2': 8}\n",
      "0.9795918345451355,0.022356019349977815 with: {'neuron1': 8, 'neuron2': 12}\n",
      "0.9809523701667786,0.013874890051800664 with: {'neuron1': 14, 'neuron2': 4}\n",
      "0.9809523820877075,0.02081231773837104 with: {'neuron1': 14, 'neuron2': 8}\n",
      "0.9809523820877075,0.018950192504749705 with: {'neuron1': 14, 'neuron2': 12}\n"
     ]
    }
   ],
   "source": [
    "# Summarize the results\n",
    "print('Best : {}, using {}'.format(grid_result4.best_score_,grid_result4.best_params_))\n",
    "means4 = grid_result4.cv_results_['mean_test_score']\n",
    "stds4 = grid_result4.cv_results_['std_test_score']\n",
    "params4 = grid_result4.cv_results_['params']\n",
    "for mean, stdev, param in zip(means4, stds4, params4):\n",
    "  print('{},{} with: {}'.format(mean, stdev, param))\n",
    "\n",
    "#Best results are Neuron 1 = 4 and Neuron 2 = 4"
   ]
  },
  {
   "cell_type": "markdown",
   "metadata": {
    "id": "NU9qPt3EA5Pt"
   },
   "source": [
    "#### Tuning set 5: Trying all HyperParameters at once"
   ]
  },
  {
   "cell_type": "code",
   "execution_count": 36,
   "metadata": {
    "colab": {
     "base_uri": "https://localhost:8080/",
     "height": 0
    },
    "id": "cDMgWIbdA5Pu",
    "outputId": "641d0313-f2c1-42f1-e933-23100b8acb09",
    "scrolled": true
   },
   "outputs": [
    {
     "data": {
      "text/plain": [
       "\"def create_model5(learning_rate,dropout_rate,activation_function,init,neuron1,neuron2):\\n    model = Sequential()\\n    model.add(Dense(neuron1,input_dim = 11,kernel_initializer = init,activation = activation_function))\\n    model.add(Dropout(dropout_rate))\\n    model.add(Dense(neuron2,input_dim = neuron1,kernel_initializer = init,activation = activation_function))\\n    model.add(Dropout(dropout_rate))\\n    model.add(Dense(1,activation = 'sigmoid'))\\n    \\n    adam = Adam(lr = learning_rate)\\n    model.compile(loss = 'binary_crossentropy',optimizer = adam,metrics = ['accuracy'])\\n    return model\\n\\n# Create the model\\n\\n#model5 = KerasClassifier(build_fn = create_model5,verbose = 0)\\n\\n# Define the grid search parameters\\n\\nbatch_size = [10,20,40]\\nepochs = [10,50,100]\\nlearning_rate = [0.001,0.01,0.1]\\ndropout_rate = [0.0,0.1,0.2]\\nactivation_function = ['relu','tanh','linear'] #removing softmax since it is for multiclass\\ninit = ['uniform','normal']\\nneuron1 = [4,8,16]\\nneuron2 = [2,4,8]\\n\\n# Make a dictionary of the grid search parameters\\n\\nparam_grids5 = dict(batch_size = batch_size,epochs = epochs,learning_rate = learning_rate,dropout_rate = dropout_rate,\\n                   activation_function = activation_function,init = init,neuron1 = neuron1,neuron2 = neuron2)\\n\\n# Build and fit the GridSearchCV\\n\\ngrid5 = GridSearchCV(estimator = model5,param_grid = param_grids5,cv = KFold(),verbose = 10)\\ngrid_result5 = grid5.fit(X_standardized,Y)\\n\""
      ]
     },
     "execution_count": 36,
     "metadata": {},
     "output_type": "execute_result"
    }
   ],
   "source": [
    "'''def create_model5(learning_rate,dropout_rate,activation_function,init,neuron1,neuron2):\n",
    "    model = Sequential()\n",
    "    model.add(Dense(neuron1,input_dim = 11,kernel_initializer = init,activation = activation_function))\n",
    "    model.add(Dropout(dropout_rate))\n",
    "    model.add(Dense(neuron2,input_dim = neuron1,kernel_initializer = init,activation = activation_function))\n",
    "    model.add(Dropout(dropout_rate))\n",
    "    model.add(Dense(1,activation = 'sigmoid'))\n",
    "    \n",
    "    adam = Adam(lr = learning_rate)\n",
    "    model.compile(loss = 'binary_crossentropy',optimizer = adam,metrics = ['accuracy'])\n",
    "    return model\n",
    "\n",
    "# Create the model\n",
    "\n",
    "#model5 = KerasClassifier(build_fn = create_model5,verbose = 0)\n",
    "\n",
    "# Define the grid search parameters\n",
    "\n",
    "batch_size = [10,20,40]\n",
    "epochs = [10,50,100]\n",
    "learning_rate = [0.001,0.01,0.1]\n",
    "dropout_rate = [0.0,0.1,0.2]\n",
    "activation_function = ['relu','tanh','linear'] #removing softmax since it is for multiclass\n",
    "init = ['uniform','normal']\n",
    "neuron1 = [4,8,16]\n",
    "neuron2 = [2,4,8]\n",
    "\n",
    "# Make a dictionary of the grid search parameters\n",
    "\n",
    "param_grids5 = dict(batch_size = batch_size,epochs = epochs,learning_rate = learning_rate,dropout_rate = dropout_rate,\n",
    "                   activation_function = activation_function,init = init,neuron1 = neuron1,neuron2 = neuron2)\n",
    "\n",
    "# Build and fit the GridSearchCV\n",
    "\n",
    "grid5 = GridSearchCV(estimator = model5,param_grid = param_grids5,cv = KFold(),verbose = 10)\n",
    "grid_result5 = grid5.fit(X_standardized,Y)\n",
    "'''\n",
    "#This would take approx 15 hours to complete"
   ]
  },
  {
   "cell_type": "markdown",
   "metadata": {
    "id": "erqJP73gA5Pu"
   },
   "source": [
    "## Building Final Model"
   ]
  },
  {
   "cell_type": "code",
   "execution_count": 37,
   "metadata": {
    "id": "ueLLt5FdA5Pu"
   },
   "outputs": [],
   "source": [
    "# Defining the model\n",
    "\n",
    "def create_model_fnl():\n",
    "    model = Sequential()\n",
    "    model.add(Dense(4,input_dim = 11,kernel_initializer = 'uniform',activation = 'relu'))\n",
    "    model.add(Dropout(0.2))\n",
    "    model.add(Dense(4,input_dim = 4,kernel_initializer = 'uniform',activation = 'relu'))\n",
    "    model.add(Dropout(0.2))\n",
    "    model.add(Dense(1,activation = 'sigmoid'))\n",
    "    \n",
    "    adam = Adam(lr = 0.001) #sgd = SGD(lr=learning_rate, momentum=momentum, decay=decay_rate, nesterov=False)\n",
    "    model.compile(loss = 'binary_crossentropy',optimizer = adam,metrics = ['accuracy'])\n",
    "    return model"
   ]
  },
  {
   "cell_type": "code",
   "execution_count": 38,
   "metadata": {
    "id": "MT851fbzA5Pv"
   },
   "outputs": [],
   "source": [
    "# Create the model\n",
    "model_fnl = KerasClassifier(build_fn = create_model_fnl,verbose = 0,batch_size = 20,epochs = 50)"
   ]
  },
  {
   "cell_type": "code",
   "execution_count": 39,
   "metadata": {
    "id": "6jTo5i6zA5Pv"
   },
   "outputs": [],
   "source": [
    "#Making training and Testing Data\n",
    "X_train_1, X_test_1, y_train_1, y_test_1 = train_test_split(X_standardized,Y, test_size = 0.3)\n"
   ]
  },
  {
   "cell_type": "code",
   "execution_count": 40,
   "metadata": {
    "id": "3aFoWMytA5Pw"
   },
   "outputs": [],
   "source": [
    "# Fitting the model\n",
    "hist2 = model_fnl.fit(X_train_1,y_train_1)"
   ]
  },
  {
   "cell_type": "code",
   "execution_count": 41,
   "metadata": {
    "id": "--Mb0rXpA5Pw"
   },
   "outputs": [],
   "source": [
    "from sklearn.metrics import confusion_matrix,classification_report,plot_confusion_matrix\n",
    "def report_model(model):\n",
    "    model_preds = model.predict(X_test_1)\n",
    "    print(confusion_matrix(y_test_1,model_preds))\n",
    "    print(classification_report(y_test_1,model_preds))\n"
   ]
  },
  {
   "cell_type": "code",
   "execution_count": 42,
   "metadata": {
    "colab": {
     "base_uri": "https://localhost:8080/"
    },
    "id": "jxNjZkVcA5Pw",
    "outputId": "c0a1b518-2fdf-4961-e226-9f84558a4a4e",
    "scrolled": true
   },
   "outputs": [
    {
     "name": "stdout",
     "output_type": "stream",
     "text": [
      "7/7 [==============================] - 0s 4ms/step\n",
      "[[ 98   3]\n",
      " [  1 119]]\n",
      "              precision    recall  f1-score   support\n",
      "\n",
      "           0       0.99      0.97      0.98       101\n",
      "           1       0.98      0.99      0.98       120\n",
      "\n",
      "    accuracy                           0.98       221\n",
      "   macro avg       0.98      0.98      0.98       221\n",
      "weighted avg       0.98      0.98      0.98       221\n",
      "\n"
     ]
    }
   ],
   "source": [
    "report_model(model_fnl)"
   ]
  },
  {
   "cell_type": "markdown",
   "metadata": {
    "id": "cYHB7wT8A5Px"
   },
   "source": [
    "## Conclusion\n",
    "- EDA was perfomed on initial dataset and all errors were removed.\n",
    "- Inbuilt databias of the dataset was rectified.\n",
    "- A general Neural Network was built first using random Parameters.\n",
    "- Training history plotting was done for the above model.\n",
    "- Tuning of HyperParameters was perfomed\n",
    "- An optimised Final Model was built with all the optimum hyperparameters.\n",
    "- Final model report was obtained."
   ]
  },
  {
   "cell_type": "code",
   "execution_count": null,
   "metadata": {
    "id": "m1myOtYoA5Px"
   },
   "outputs": [],
   "source": []
  },
  {
   "cell_type": "code",
   "execution_count": null,
   "metadata": {},
   "outputs": [],
   "source": []
  }
 ],
 "metadata": {
  "colab": {
   "name": "16Q1.ipynb",
   "provenance": []
  },
  "kernelspec": {
   "display_name": "Python 3 (ipykernel)",
   "language": "python",
   "name": "python3"
  },
  "language_info": {
   "codemirror_mode": {
    "name": "ipython",
    "version": 3
   },
   "file_extension": ".py",
   "mimetype": "text/x-python",
   "name": "python",
   "nbconvert_exporter": "python",
   "pygments_lexer": "ipython3",
   "version": "3.9.6"
  }
 },
 "nbformat": 4,
 "nbformat_minor": 1
}
